{
 "cells": [
  {
   "cell_type": "code",
   "execution_count": 58,
   "metadata": {},
   "outputs": [],
   "source": [
    "import pandas as pd\n",
    "import numpy as np\n",
    "import matplotlib.pyplot as plt\n",
    "import os\n",
    "from sklearn.metrics import confusion_matrix\n",
    "from sklearn import datasets, svm\n",
    "import seaborn as sns"
   ]
  },
  {
   "cell_type": "code",
   "execution_count": 59,
   "metadata": {},
   "outputs": [],
   "source": [
    "N_m=5"
   ]
  },
  {
   "cell_type": "code",
   "execution_count": 62,
   "metadata": {},
   "outputs": [
    {
     "data": {
      "text/plain": [
       "array([[-2.88470459, -3.09334521],\n",
       "       [-0.38012753,  0.50960898],\n",
       "       [ 0.08828312,  0.2825261 ],\n",
       "       [-1.08727082,  0.91207538],\n",
       "       [ 0.2095121 ,  1.87770417],\n",
       "       [-1.26292912,  0.70597421],\n",
       "       [-1.02649626,  0.67572811],\n",
       "       [-0.9910247 , -0.92034095],\n",
       "       [ 0.7250405 ,  1.11196313],\n",
       "       [-0.82696232,  1.19851322],\n",
       "       [-1.89255856,  0.40341791],\n",
       "       [-2.87618154, -3.52767119],\n",
       "       [-1.20026133, -1.15842117],\n",
       "       [ 0.04623351,  0.31605039],\n",
       "       [ 0.2248898 ,  2.1926224 ],\n",
       "       [ 0.62833321, -2.45446179],\n",
       "       [-1.87794153, -2.33296202],\n",
       "       [-1.08536788,  0.91049297],\n",
       "       [ 0.68698129, -1.99674589],\n",
       "       [-1.00349992, -1.13101638]])"
      ]
     },
     "metadata": {},
     "output_type": "display_data"
    },
    {
     "data": {
      "text/plain": [
       "array([0, 1, 0, 0, 0, 0, 0, 0, 0, 0, 0, 0, 0, 0, 0, 1, 0, 0, 1, 0])"
      ]
     },
     "metadata": {},
     "output_type": "display_data"
    }
   ],
   "source": [
    "import sklearn\n",
    "A, y=sklearn.datasets.make_classification(n_samples=20,n_features=2,n_informative=2,n_redundant=0,weights=[0.8],random_state=5)\n",
    "display(A)\n",
    "display(y)\n"
   ]
  },
  {
   "cell_type": "code",
   "execution_count": 53,
   "metadata": {},
   "outputs": [
    {
     "data": {
      "text/plain": [
       "array([0, 1, 0, 0, 0, 0, 0, 0, 0, 0, 0, 0, 0, 0, 0, 1, 0, 0, 1, 0])"
      ]
     },
     "metadata": {},
     "output_type": "display_data"
    }
   ],
   "source": [
    "display(y)"
   ]
  },
  {
   "cell_type": "code",
   "execution_count": 54,
   "metadata": {},
   "outputs": [],
   "source": [
    "def sigma(A):\n",
    "    N = A.shape[0]\n",
    "    sigma = []\n",
    "    for i in range(N):\n",
    "        for j in range(i+1, N):\n",
    "            sigma.append(np.square(np.linalg.norm(A[i,:]-A[j,:])))\n",
    "\n",
    "    return 0.1 * np.max(sigma)"
   ]
  },
  {
   "cell_type": "code",
   "execution_count": 55,
   "metadata": {},
   "outputs": [
    {
     "name": "stdout",
     "output_type": "stream",
     "text": [
      "4.233840225882515\n"
     ]
    }
   ],
   "source": [
    "sig=sigma(A)\n",
    "print(sig)"
   ]
  },
  {
   "cell_type": "code",
   "execution_count": 45,
   "metadata": {},
   "outputs": [],
   "source": [
    "def K(FV1, FV2):\n",
    "    dist = np.linalg.norm(FV1-FV2)\n",
    "    return np.exp(-1*np.square(dist)/(2*sig))"
   ]
  },
  {
   "cell_type": "code",
   "execution_count": 46,
   "metadata": {},
   "outputs": [],
   "source": [
    "def give_KSS(S):\n",
    "    KSS = []\n",
    "    for i in S:\n",
    "        for j in S:\n",
    "            KSS.append( K(A[i,:], A[j,:]))\n",
    "\n",
    "    return np.array(KSS).reshape((len(S), len(S)))"
   ]
  },
  {
   "cell_type": "code",
   "execution_count": 47,
   "metadata": {},
   "outputs": [],
   "source": [
    "def give_KSx(S, x):\n",
    "    KSx = []\n",
    "    for i in S:\n",
    "        kx = K(A[i,:], x)\n",
    "        KSx.append(kx)\n",
    "    return np.array(KSx).reshape((len(S), 1))"
   ]
  },
  {
   "cell_type": "code",
   "execution_count": 48,
   "metadata": {},
   "outputs": [],
   "source": [
    "def give_beta(S, x):\n",
    "    KSx = give_KSx(S, x).reshape(len(S), 1)\n",
    "    KSS = give_KSS(S)\n",
    "    DSS = np.diag(np.diag(np.sqrt(KSS)))\n",
    "    beta = np.dot(np.dot(np.transpose(KSx), np.linalg.inv(KSS)), DSS)\n",
    "    return beta"
   ]
  },
  {
   "cell_type": "code",
   "execution_count": 38,
   "metadata": {},
   "outputs": [
    {
     "name": "stdout",
     "output_type": "stream",
     "text": [
      "0.7\n",
      "9.282318406319246e+31\n",
      "1.8988971368355943e+31\n",
      "[15, 14, 11, 10, 2]\n"
     ]
    },
    {
     "data": {
      "text/plain": [
       "array([[ 0.62833321, -2.45446179],\n",
       "       [ 0.2248898 ,  2.1926224 ],\n",
       "       [-2.87618154, -3.52767119],\n",
       "       [-1.89255856,  0.40341791],\n",
       "       [ 0.08828312,  0.2825261 ]])"
      ]
     },
     "execution_count": 38,
     "metadata": {},
     "output_type": "execute_result"
    }
   ],
   "source": [
    "minor_index=np.where(y==1)[0].tolist()\n",
    "lambdamax=-np.inf\n",
    "best_iter=-1\n",
    "counter=0\n",
    "total_S=[]\n",
    "for i in minor_index:\n",
    "    current_S=[i]\n",
    "    ctrl=1\n",
    "    while (len(current_S)<N_m and ctrl==1):\n",
    "        current_inv =np.linalg.inv(give_KSS(current_S))\n",
    "        max_LF=-np.inf\n",
    "        max_LF_index=-1\n",
    "        remaining=list(set(range(A.shape[0]))-set(current_S))\n",
    "        #print(remaining)\n",
    "        for j in remaining:\n",
    "            KSx=give_KSx(current_S,A[j,:])\n",
    "            LF =abs(1-((KSx.T).dot(current_inv).dot(KSx)))\n",
    "            if LF> max_LF:\n",
    "                max_LF=LF\n",
    "                max_LF_index=j\n",
    "        if(max_LF<0.001):\n",
    "            ctrl=0\n",
    "        else:\n",
    "            current_S.append(max_LF_index)\n",
    "    total_S.append(current_S)\n",
    "    \n",
    "    S0=list(set(current_S)& (set(range(A.shape[0]))-set(minor_index)))\n",
    "    S1=list(set(current_S) & set(minor_index))\n",
    "    B0=np.zeros((len(S0),len(current_S) ))\n",
    "    B1=np.zeros((len(S1), len(current_S)))\n",
    "    rownum=0\n",
    "    for k in S0:\n",
    "        B0[rownum,:]=give_beta(current_S, A[k,:]).flatten()\n",
    "        rownum=rownum+1\n",
    "    rownum=0\n",
    "    for k in S1:\n",
    "        B1[rownum,:]=give_beta(current_S, A[k,:]).flatten()\n",
    "        rownum=rownum+1\n",
    "        \n",
    "    mean0=B0.mean(axis=0)\n",
    "    mean1=B1.mean(axis=0)\n",
    "    \n",
    "    var0=B0.var(axis=0)\n",
    "    var1=B1.var(axis=0)\n",
    "    \n",
    "    lam=((mean0-mean1)**2)/(var0+var1)\n",
    "\n",
    "    total_lam=lam.sum()/lam.shape[0]\n",
    "    print(total_lam)\n",
    "    if(lambdamax<total_lam):\n",
    "        lambdamax=total_lam\n",
    "        best_iter=counter\n",
    "    counter=counter+1\n",
    "\n",
    "print(total_S[best_iter])\n",
    "\n",
    "\n",
    "A[total_S[best_iter],:]\n",
    "\n",
    "\n",
    "        \n",
    "    \n",
    "    \n",
    "    "
   ]
  },
  {
   "cell_type": "code",
   "execution_count": 46,
   "metadata": {},
   "outputs": [],
   "source": [
    "model = svm.SVC(C = sig)"
   ]
  },
  {
   "cell_type": "code",
   "execution_count": 47,
   "metadata": {},
   "outputs": [
    {
     "data": {
      "text/plain": [
       "SVC(C=4.734202106504919)"
      ]
     },
     "execution_count": 47,
     "metadata": {},
     "output_type": "execute_result"
    }
   ],
   "source": [
    "model.fit(A[best_iter, :], y[best_iter])"
   ]
  },
  {
   "cell_type": "code",
   "execution_count": 48,
   "metadata": {},
   "outputs": [
    {
     "data": {
      "text/plain": [
       "0.82"
      ]
     },
     "execution_count": 48,
     "metadata": {},
     "output_type": "execute_result"
    }
   ],
   "source": [
    "model.score(A, y)"
   ]
  },
  {
   "cell_type": "code",
   "execution_count": 49,
   "metadata": {},
   "outputs": [],
   "source": [
    "df = pd.DataFrame(A)\n",
    "df[\"Class\"] = y\n",
    "minor_cls, major_cls = minor_major(df)\n",
    "cls_types= np.array([major_cls, minor_cls])"
   ]
  },
  {
   "cell_type": "code",
   "execution_count": 50,
   "metadata": {},
   "outputs": [
    {
     "data": {
      "text/plain": [
       "array([0, 1])"
      ]
     },
     "execution_count": 50,
     "metadata": {},
     "output_type": "execute_result"
    }
   ],
   "source": [
    "cls_types"
   ]
  },
  {
   "cell_type": "code",
   "execution_count": 51,
   "metadata": {},
   "outputs": [
    {
     "data": {
      "text/plain": [
       "Text(0.5, 89.87999999999997, 'Predicted')"
      ]
     },
     "execution_count": 51,
     "metadata": {},
     "output_type": "execute_result"
    },
    {
     "data": {
      "image/png": "[encoded data removed]",
      "text/plain": [
       "<Figure size 576x576 with 2 Axes>"
      ]
     },
     "metadata": {
      "needs_background": "light"
     },
     "output_type": "display_data"
    }
   ],
   "source": [
    "Y_pred = model.predict(A)\n",
    "Y_true = y\n",
    "cm = confusion_matrix(Y_true, Y_pred)\n",
    "plt.figure(figsize=(8, 8))\n",
    "ax = sns.heatmap(cm, cmap=plt.cm.Greens, annot=True, square=True, xticklabels=cls_types, yticklabels=cls_types)\n",
    "ax.set_ylabel('Actual')\n",
    "ax.set_xlabel('Predicted')"
   ]
  },
  {
   "cell_type": "code",
   "execution_count": 25,
   "metadata": {},
   "outputs": [],
   "source": [
    "TN = cm[0][0]\n",
    "TP = cm[1][1]\n",
    "FN = cm[0][1]\n",
    "FP = cm[1][0]\n",
    "\n",
    "TPR = TP / (TP+FN)\n",
    "TNR = TN / (TN+FP)\n",
    "precision = TP / (TP+FP)\n",
    "recall=TP/(TP+FN)                  "
   ]
  },
  {
   "cell_type": "code",
   "execution_count": 32,
   "metadata": {},
   "outputs": [
    {
     "name": "stdout",
     "output_type": "stream",
     "text": [
      "0.6614986300669394\n",
      "0.5964912280701754\n",
      "0.85\n",
      "0.4594594594594595\n"
     ]
    }
   ],
   "source": [
    "G_mean = np.sqrt(TPR*TNR)\n",
    "F_measure = (2*precision*TPR)/(precision+TPR)\n",
    "\n",
    "print(G_mean)\n",
    "print(F_measure)\n",
    "print(precision)\n",
    "print(recall)"
   ]
  }
 ],
 "metadata": {
  "kernelspec": {
   "display_name": "Python 3 (ipykernel)",
   "language": "python",
   "name": "python3"
  },
  "language_info": {
   "codemirror_mode": {
    "name": "ipython",
    "version": 3
   },
   "file_extension": ".py",
   "mimetype": "text/x-python",
   "name": "python",
   "nbconvert_exporter": "python",
   "pygments_lexer": "ipython3",
   "version": "3.9.12"
  }
 },
 "nbformat": 4,
 "nbformat_minor": 4
}
