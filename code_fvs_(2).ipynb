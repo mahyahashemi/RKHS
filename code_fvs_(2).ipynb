{
  "cells": [
    {
      "cell_type": "markdown",
      "metadata": {
        "id": "view-in-github",
        "colab_type": "text"
      },
      "source": [
        "<a href=\"https://colab.research.google.com/github/mahyahashemi/RKHS_Project/blob/main/code_fvs_(2).ipynb\" target=\"_parent\"><img src=\"https://colab.research.google.com/assets/colab-badge.svg\" alt=\"Open In Colab\"/></a>"
      ]
    },
    {
      "cell_type": "code",
      "execution_count": 366,
      "metadata": {
        "id": "Ry-tH86rMUsL"
      },
      "outputs": [],
      "source": [
        "import pandas as pd\n",
        "import numpy as np\n",
        "import matplotlib.pyplot as plt\n",
        "import os\n",
        "from sklearn.metrics import confusion_matrix\n",
        "from sklearn import datasets, svm\n",
        "import seaborn as sns\n",
        "from sklearn.model_selection import train_test_split\n",
        "from mlxtend.plotting import plot_decision_regions"
      ]
    },
    {
      "cell_type": "code",
      "execution_count": 367,
      "metadata": {
        "id": "pGRHwj2QMUsP"
      },
      "outputs": [],
      "source": [
        "N_m=50"
      ]
    },
    {
      "cell_type": "code",
      "source": [
        "url = 'https://raw.githubusercontent.com/mahyahashemi/RKHS_Project/main/datasets/glass1.csv'\n",
        "sample = pd.read_csv(url, on_bad_lines='skip')"
      ],
      "metadata": {
        "id": "Il1mvNaFUGmM"
      },
      "execution_count": 369,
      "outputs": []
    },
    {
      "cell_type": "code",
      "source": [
        "pip install --upgrade category_encoders"
      ],
      "metadata": {
        "colab": {
          "base_uri": "https://localhost:8080/"
        },
        "id": "gdn24xxiUQVm",
        "outputId": "818ad62b-91ca-4056-a6ee-6df6134183fb"
      },
      "execution_count": 370,
      "outputs": [
        {
          "output_type": "stream",
          "name": "stdout",
          "text": [
            "Looking in indexes: https://pypi.org/simple, https://us-python.pkg.dev/colab-wheels/public/simple/\n",
            "Requirement already satisfied: category_encoders in /usr/local/lib/python3.7/dist-packages (2.5.0)\n",
            "Requirement already satisfied: statsmodels>=0.9.0 in /usr/local/lib/python3.7/dist-packages (from category_encoders) (0.10.2)\n",
            "Requirement already satisfied: pandas>=1.0.5 in /usr/local/lib/python3.7/dist-packages (from category_encoders) (1.3.5)\n",
            "Requirement already satisfied: patsy>=0.5.1 in /usr/local/lib/python3.7/dist-packages (from category_encoders) (0.5.2)\n",
            "Requirement already satisfied: scipy>=1.0.0 in /usr/local/lib/python3.7/dist-packages (from category_encoders) (1.7.3)\n",
            "Requirement already satisfied: scikit-learn>=0.20.0 in /usr/local/lib/python3.7/dist-packages (from category_encoders) (1.0.2)\n",
            "Requirement already satisfied: numpy>=1.14.0 in /usr/local/lib/python3.7/dist-packages (from category_encoders) (1.21.6)\n",
            "Requirement already satisfied: python-dateutil>=2.7.3 in /usr/local/lib/python3.7/dist-packages (from pandas>=1.0.5->category_encoders) (2.8.2)\n",
            "Requirement already satisfied: pytz>=2017.3 in /usr/local/lib/python3.7/dist-packages (from pandas>=1.0.5->category_encoders) (2022.1)\n",
            "Requirement already satisfied: six in /usr/local/lib/python3.7/dist-packages (from patsy>=0.5.1->category_encoders) (1.15.0)\n",
            "Requirement already satisfied: joblib>=0.11 in /usr/local/lib/python3.7/dist-packages (from scikit-learn>=0.20.0->category_encoders) (1.1.0)\n",
            "Requirement already satisfied: threadpoolctl>=2.0.0 in /usr/local/lib/python3.7/dist-packages (from scikit-learn>=0.20.0->category_encoders) (3.1.0)\n"
          ]
        }
      ]
    },
    {
      "cell_type": "code",
      "source": [
        "import category_encoders as ce\n",
        "encoder = ce.OrdinalEncoder(cols=['Class'])\n",
        "encoder"
      ],
      "metadata": {
        "colab": {
          "base_uri": "https://localhost:8080/"
        },
        "id": "H2jOOl6EUV0A",
        "outputId": "3fe36e3c-6a72-4d2f-f402-7a69fee2ec42"
      },
      "execution_count": 371,
      "outputs": [
        {
          "output_type": "execute_result",
          "data": {
            "text/plain": [
              "OrdinalEncoder(cols=['Class'])"
            ]
          },
          "metadata": {},
          "execution_count": 371
        }
      ]
    },
    {
      "cell_type": "code",
      "source": [
        "sample=encoder.fit_transform(sample)"
      ],
      "metadata": {
        "id": "4tgCF06nUXsX"
      },
      "execution_count": 372,
      "outputs": []
    },
    {
      "cell_type": "code",
      "source": [
        "sample=sample.fillna(0)\n",
        "sample"
      ],
      "metadata": {
        "colab": {
          "base_uri": "https://localhost:8080/",
          "height": 424
        },
        "id": "h6hYIkcMq9L4",
        "outputId": "e7f5eef5-6d83-4154-e315-625f463648d7"
      },
      "execution_count": 373,
      "outputs": [
        {
          "output_type": "execute_result",
          "data": {
            "text/plain": [
              "           RI        Na       Mg       Al       Si        K        Ca  \\\n",
              "0    1.515888  12.87795  3.43036  1.40066  73.2820  0.68931   8.04468   \n",
              "1    1.517642  12.97770  3.53812  1.21127  73.0020  0.65205   8.52888   \n",
              "2    1.522130  14.20795  3.82099  0.46976  71.7700  0.11178   9.57260   \n",
              "3    1.522221  13.21045  3.77160  0.79076  71.9884  0.13041  10.24520   \n",
              "4    1.517551  13.39000  3.65935  1.18880  72.7892  0.57132   8.27064   \n",
              "..        ...       ...      ...      ...      ...      ...       ...   \n",
              "209  1.517278  14.70005  0.00000  2.34119  73.2820  0.00000   8.94852   \n",
              "210  1.516230  14.14145  0.00000  2.88047  72.6100  0.08073   9.18524   \n",
              "211  1.518371  14.32100  3.25974  2.21921  71.2492  1.45935   5.78508   \n",
              "212  1.516572  14.79980  0.00000  1.99130  73.1084  0.00000   8.28140   \n",
              "213  1.517323  14.95275  0.00000  1.79870  72.9908  0.00000   8.61496   \n",
              "\n",
              "          Ba      Fe  Class  \n",
              "0    0.00000  0.1224      1  \n",
              "1    0.00000  0.0000      1  \n",
              "2    0.00000  0.0000      1  \n",
              "3    0.00000  0.0000      1  \n",
              "4    0.00000  0.0561      1  \n",
              "..       ...     ...    ...  \n",
              "209  0.66150  0.0000      1  \n",
              "210  1.06155  0.0000      1  \n",
              "211  1.62855  0.0000      1  \n",
              "212  1.71045  0.0000      1  \n",
              "213  1.54980  0.0000      1  \n",
              "\n",
              "[214 rows x 10 columns]"
            ],
            "text/html": [
              "\n",
              "  <div id=\"df-79ff9506-322e-4471-b4a3-1491a8ad616b\">\n",
              "    <div class=\"colab-df-container\">\n",
              "      <div>\n",
              "<style scoped>\n",
              "    .dataframe tbody tr th:only-of-type {\n",
              "        vertical-align: middle;\n",
              "    }\n",
              "\n",
              "    .dataframe tbody tr th {\n",
              "        vertical-align: top;\n",
              "    }\n",
              "\n",
              "    .dataframe thead th {\n",
              "        text-align: right;\n",
              "    }\n",
              "</style>\n",
              "<table border=\"1\" class=\"dataframe\">\n",
              "  <thead>\n",
              "    <tr style=\"text-align: right;\">\n",
              "      <th></th>\n",
              "      <th>RI</th>\n",
              "      <th>Na</th>\n",
              "      <th>Mg</th>\n",
              "      <th>Al</th>\n",
              "      <th>Si</th>\n",
              "      <th>K</th>\n",
              "      <th>Ca</th>\n",
              "      <th>Ba</th>\n",
              "      <th>Fe</th>\n",
              "      <th>Class</th>\n",
              "    </tr>\n",
              "  </thead>\n",
              "  <tbody>\n",
              "    <tr>\n",
              "      <th>0</th>\n",
              "      <td>1.515888</td>\n",
              "      <td>12.87795</td>\n",
              "      <td>3.43036</td>\n",
              "      <td>1.40066</td>\n",
              "      <td>73.2820</td>\n",
              "      <td>0.68931</td>\n",
              "      <td>8.04468</td>\n",
              "      <td>0.00000</td>\n",
              "      <td>0.1224</td>\n",
              "      <td>1</td>\n",
              "    </tr>\n",
              "    <tr>\n",
              "      <th>1</th>\n",
              "      <td>1.517642</td>\n",
              "      <td>12.97770</td>\n",
              "      <td>3.53812</td>\n",
              "      <td>1.21127</td>\n",
              "      <td>73.0020</td>\n",
              "      <td>0.65205</td>\n",
              "      <td>8.52888</td>\n",
              "      <td>0.00000</td>\n",
              "      <td>0.0000</td>\n",
              "      <td>1</td>\n",
              "    </tr>\n",
              "    <tr>\n",
              "      <th>2</th>\n",
              "      <td>1.522130</td>\n",
              "      <td>14.20795</td>\n",
              "      <td>3.82099</td>\n",
              "      <td>0.46976</td>\n",
              "      <td>71.7700</td>\n",
              "      <td>0.11178</td>\n",
              "      <td>9.57260</td>\n",
              "      <td>0.00000</td>\n",
              "      <td>0.0000</td>\n",
              "      <td>1</td>\n",
              "    </tr>\n",
              "    <tr>\n",
              "      <th>3</th>\n",
              "      <td>1.522221</td>\n",
              "      <td>13.21045</td>\n",
              "      <td>3.77160</td>\n",
              "      <td>0.79076</td>\n",
              "      <td>71.9884</td>\n",
              "      <td>0.13041</td>\n",
              "      <td>10.24520</td>\n",
              "      <td>0.00000</td>\n",
              "      <td>0.0000</td>\n",
              "      <td>1</td>\n",
              "    </tr>\n",
              "    <tr>\n",
              "      <th>4</th>\n",
              "      <td>1.517551</td>\n",
              "      <td>13.39000</td>\n",
              "      <td>3.65935</td>\n",
              "      <td>1.18880</td>\n",
              "      <td>72.7892</td>\n",
              "      <td>0.57132</td>\n",
              "      <td>8.27064</td>\n",
              "      <td>0.00000</td>\n",
              "      <td>0.0561</td>\n",
              "      <td>1</td>\n",
              "    </tr>\n",
              "    <tr>\n",
              "      <th>...</th>\n",
              "      <td>...</td>\n",
              "      <td>...</td>\n",
              "      <td>...</td>\n",
              "      <td>...</td>\n",
              "      <td>...</td>\n",
              "      <td>...</td>\n",
              "      <td>...</td>\n",
              "      <td>...</td>\n",
              "      <td>...</td>\n",
              "      <td>...</td>\n",
              "    </tr>\n",
              "    <tr>\n",
              "      <th>209</th>\n",
              "      <td>1.517278</td>\n",
              "      <td>14.70005</td>\n",
              "      <td>0.00000</td>\n",
              "      <td>2.34119</td>\n",
              "      <td>73.2820</td>\n",
              "      <td>0.00000</td>\n",
              "      <td>8.94852</td>\n",
              "      <td>0.66150</td>\n",
              "      <td>0.0000</td>\n",
              "      <td>1</td>\n",
              "    </tr>\n",
              "    <tr>\n",
              "      <th>210</th>\n",
              "      <td>1.516230</td>\n",
              "      <td>14.14145</td>\n",
              "      <td>0.00000</td>\n",
              "      <td>2.88047</td>\n",
              "      <td>72.6100</td>\n",
              "      <td>0.08073</td>\n",
              "      <td>9.18524</td>\n",
              "      <td>1.06155</td>\n",
              "      <td>0.0000</td>\n",
              "      <td>1</td>\n",
              "    </tr>\n",
              "    <tr>\n",
              "      <th>211</th>\n",
              "      <td>1.518371</td>\n",
              "      <td>14.32100</td>\n",
              "      <td>3.25974</td>\n",
              "      <td>2.21921</td>\n",
              "      <td>71.2492</td>\n",
              "      <td>1.45935</td>\n",
              "      <td>5.78508</td>\n",
              "      <td>1.62855</td>\n",
              "      <td>0.0000</td>\n",
              "      <td>1</td>\n",
              "    </tr>\n",
              "    <tr>\n",
              "      <th>212</th>\n",
              "      <td>1.516572</td>\n",
              "      <td>14.79980</td>\n",
              "      <td>0.00000</td>\n",
              "      <td>1.99130</td>\n",
              "      <td>73.1084</td>\n",
              "      <td>0.00000</td>\n",
              "      <td>8.28140</td>\n",
              "      <td>1.71045</td>\n",
              "      <td>0.0000</td>\n",
              "      <td>1</td>\n",
              "    </tr>\n",
              "    <tr>\n",
              "      <th>213</th>\n",
              "      <td>1.517323</td>\n",
              "      <td>14.95275</td>\n",
              "      <td>0.00000</td>\n",
              "      <td>1.79870</td>\n",
              "      <td>72.9908</td>\n",
              "      <td>0.00000</td>\n",
              "      <td>8.61496</td>\n",
              "      <td>1.54980</td>\n",
              "      <td>0.0000</td>\n",
              "      <td>1</td>\n",
              "    </tr>\n",
              "  </tbody>\n",
              "</table>\n",
              "<p>214 rows × 10 columns</p>\n",
              "</div>\n",
              "      <button class=\"colab-df-convert\" onclick=\"convertToInteractive('df-79ff9506-322e-4471-b4a3-1491a8ad616b')\"\n",
              "              title=\"Convert this dataframe to an interactive table.\"\n",
              "              style=\"display:none;\">\n",
              "        \n",
              "  <svg xmlns=\"http://www.w3.org/2000/svg\" height=\"24px\"viewBox=\"0 0 24 24\"\n",
              "       width=\"24px\">\n",
              "    <path d=\"M0 0h24v24H0V0z\" fill=\"none\"/>\n",
              "    <path d=\"M18.56 5.44l.94 2.06.94-2.06 2.06-.94-2.06-.94-.94-2.06-.94 2.06-2.06.94zm-11 1L8.5 8.5l.94-2.06 2.06-.94-2.06-.94L8.5 2.5l-.94 2.06-2.06.94zm10 10l.94 2.06.94-2.06 2.06-.94-2.06-.94-.94-2.06-.94 2.06-2.06.94z\"/><path d=\"M17.41 7.96l-1.37-1.37c-.4-.4-.92-.59-1.43-.59-.52 0-1.04.2-1.43.59L10.3 9.45l-7.72 7.72c-.78.78-.78 2.05 0 2.83L4 21.41c.39.39.9.59 1.41.59.51 0 1.02-.2 1.41-.59l7.78-7.78 2.81-2.81c.8-.78.8-2.07 0-2.86zM5.41 20L4 18.59l7.72-7.72 1.47 1.35L5.41 20z\"/>\n",
              "  </svg>\n",
              "      </button>\n",
              "      \n",
              "  <style>\n",
              "    .colab-df-container {\n",
              "      display:flex;\n",
              "      flex-wrap:wrap;\n",
              "      gap: 12px;\n",
              "    }\n",
              "\n",
              "    .colab-df-convert {\n",
              "      background-color: #E8F0FE;\n",
              "      border: none;\n",
              "      border-radius: 50%;\n",
              "      cursor: pointer;\n",
              "      display: none;\n",
              "      fill: #1967D2;\n",
              "      height: 32px;\n",
              "      padding: 0 0 0 0;\n",
              "      width: 32px;\n",
              "    }\n",
              "\n",
              "    .colab-df-convert:hover {\n",
              "      background-color: #E2EBFA;\n",
              "      box-shadow: 0px 1px 2px rgba(60, 64, 67, 0.3), 0px 1px 3px 1px rgba(60, 64, 67, 0.15);\n",
              "      fill: #174EA6;\n",
              "    }\n",
              "\n",
              "    [theme=dark] .colab-df-convert {\n",
              "      background-color: #3B4455;\n",
              "      fill: #D2E3FC;\n",
              "    }\n",
              "\n",
              "    [theme=dark] .colab-df-convert:hover {\n",
              "      background-color: #434B5C;\n",
              "      box-shadow: 0px 1px 3px 1px rgba(0, 0, 0, 0.15);\n",
              "      filter: drop-shadow(0px 1px 2px rgba(0, 0, 0, 0.3));\n",
              "      fill: #FFFFFF;\n",
              "    }\n",
              "  </style>\n",
              "\n",
              "      <script>\n",
              "        const buttonEl =\n",
              "          document.querySelector('#df-79ff9506-322e-4471-b4a3-1491a8ad616b button.colab-df-convert');\n",
              "        buttonEl.style.display =\n",
              "          google.colab.kernel.accessAllowed ? 'block' : 'none';\n",
              "\n",
              "        async function convertToInteractive(key) {\n",
              "          const element = document.querySelector('#df-79ff9506-322e-4471-b4a3-1491a8ad616b');\n",
              "          const dataTable =\n",
              "            await google.colab.kernel.invokeFunction('convertToInteractive',\n",
              "                                                     [key], {});\n",
              "          if (!dataTable) return;\n",
              "\n",
              "          const docLinkHtml = 'Like what you see? Visit the ' +\n",
              "            '<a target=\"_blank\" href=https://colab.research.google.com/notebooks/data_table.ipynb>data table notebook</a>'\n",
              "            + ' to learn more about interactive tables.';\n",
              "          element.innerHTML = '';\n",
              "          dataTable['output_type'] = 'display_data';\n",
              "          await google.colab.output.renderOutput(dataTable, element);\n",
              "          const docLink = document.createElement('div');\n",
              "          docLink.innerHTML = docLinkHtml;\n",
              "          element.appendChild(docLink);\n",
              "        }\n",
              "      </script>\n",
              "    </div>\n",
              "  </div>\n",
              "  "
            ]
          },
          "metadata": {},
          "execution_count": 373
        }
      ]
    },
    {
      "cell_type": "code",
      "source": [
        "pd.unique(sample['Class'])"
      ],
      "metadata": {
        "colab": {
          "base_uri": "https://localhost:8080/"
        },
        "id": "XPQ5e1mFUcYB",
        "outputId": "08550d49-f397-475d-ce9d-d9ae4b0ae224"
      },
      "execution_count": 374,
      "outputs": [
        {
          "output_type": "execute_result",
          "data": {
            "text/plain": [
              "array([1, 2])"
            ]
          },
          "metadata": {},
          "execution_count": 374
        }
      ]
    },
    {
      "cell_type": "code",
      "source": [
        "df=sample.values"
      ],
      "metadata": {
        "id": "sbkOoodIUiGR"
      },
      "execution_count": 375,
      "outputs": []
    },
    {
      "cell_type": "code",
      "source": [
        "data= df[:,:-1]\n",
        "y = df[:,-1]"
      ],
      "metadata": {
        "id": "0u5CqiaNUdsn"
      },
      "execution_count": 376,
      "outputs": []
    },
    {
      "cell_type": "code",
      "source": [
        "display(data)\n",
        "display(y)"
      ],
      "metadata": {
        "colab": {
          "base_uri": "https://localhost:8080/",
          "height": 468
        },
        "id": "r46mhEz0UpoH",
        "outputId": "666a850f-6c8d-4d60-e68f-3052fee19bfc"
      },
      "execution_count": 377,
      "outputs": [
        {
          "output_type": "display_data",
          "data": {
            "text/plain": [
              "array([[ 1.51588824, 12.87795   ,  3.43036   , ...,  8.04468   ,\n",
              "         0.        ,  0.1224    ],\n",
              "       [ 1.5176423 , 12.9777    ,  3.53812   , ...,  8.52888   ,\n",
              "         0.        ,  0.        ],\n",
              "       [ 1.52212996, 14.20795   ,  3.82099   , ...,  9.5726    ,\n",
              "         0.        ,  0.        ],\n",
              "       ...,\n",
              "       [ 1.51837126, 14.321     ,  3.25974   , ...,  5.78508   ,\n",
              "         1.62855   ,  0.        ],\n",
              "       [ 1.51657164, 14.7998    ,  0.        , ...,  8.2814    ,\n",
              "         1.71045   ,  0.        ],\n",
              "       [ 1.51732338, 14.95275   ,  0.        , ...,  8.61496   ,\n",
              "         1.5498    ,  0.        ]])"
            ]
          },
          "metadata": {}
        },
        {
          "output_type": "display_data",
          "data": {
            "text/plain": [
              "array([1., 1., 1., 1., 1., 1., 1., 1., 1., 1., 1., 1., 1., 1., 1., 1., 1.,\n",
              "       1., 1., 1., 1., 1., 1., 1., 1., 1., 1., 1., 1., 1., 1., 1., 1., 1.,\n",
              "       1., 1., 1., 1., 1., 1., 1., 1., 1., 1., 1., 1., 1., 1., 1., 1., 1.,\n",
              "       1., 1., 1., 1., 1., 1., 1., 1., 1., 1., 1., 1., 1., 1., 1., 1., 1.,\n",
              "       1., 1., 2., 2., 2., 2., 2., 2., 2., 2., 2., 2., 2., 2., 2., 2., 2.,\n",
              "       2., 2., 2., 2., 2., 2., 2., 2., 2., 2., 2., 2., 2., 2., 2., 2., 2.,\n",
              "       2., 2., 2., 2., 2., 2., 2., 2., 2., 2., 2., 2., 2., 2., 2., 2., 2.,\n",
              "       2., 2., 2., 2., 2., 2., 2., 2., 2., 2., 2., 2., 2., 2., 2., 2., 2.,\n",
              "       2., 2., 2., 2., 2., 2., 2., 2., 2., 2., 1., 1., 1., 1., 1., 1., 1.,\n",
              "       1., 1., 1., 1., 1., 1., 1., 1., 1., 1., 1., 1., 1., 1., 1., 1., 1.,\n",
              "       1., 1., 1., 1., 1., 1., 1., 1., 1., 1., 1., 1., 1., 1., 1., 1., 1.,\n",
              "       1., 1., 1., 1., 1., 1., 1., 1., 1., 1., 1., 1., 1., 1., 1., 1., 1.,\n",
              "       1., 1., 1., 1., 1., 1., 1., 1., 1., 1.])"
            ]
          },
          "metadata": {}
        }
      ]
    },
    {
      "cell_type": "code",
      "source": [
        "from sklearn.preprocessing import  MinMaxScaler\n",
        "scaler=MinMaxScaler()\n",
        "scaler.fit(data)\n",
        "scaler.data_min_"
      ],
      "metadata": {
        "colab": {
          "base_uri": "https://localhost:8080/"
        },
        "id": "DlK-GGrjn10d",
        "outputId": "e684636c-cd46-48db-f5e5-d640cb49bc12"
      },
      "execution_count": 378,
      "outputs": [
        {
          "output_type": "execute_result",
          "data": {
            "text/plain": [
              "array([ 1.51115, 10.73   ,  0.     ,  0.29   , 69.81   ,  0.     ,\n",
              "        5.43   ,  0.     ,  0.     ])"
            ]
          },
          "metadata": {},
          "execution_count": 378
        }
      ]
    },
    {
      "cell_type": "code",
      "source": [
        "scaler.data_max_"
      ],
      "metadata": {
        "colab": {
          "base_uri": "https://localhost:8080/"
        },
        "id": "zDQuCIQLpuQk",
        "outputId": "cda5f25f-8397-4272-c414-072974679a84"
      },
      "execution_count": 379,
      "outputs": [
        {
          "output_type": "execute_result",
          "data": {
            "text/plain": [
              "array([ 1.53393, 17.38   ,  4.49   ,  3.5    , 75.41   ,  6.21   ,\n",
              "       16.19   ,  3.15   ,  0.51   ])"
            ]
          },
          "metadata": {},
          "execution_count": 379
        }
      ]
    },
    {
      "cell_type": "code",
      "source": [
        "scaler.transform(data)  #(x-min)/(max-min)"
      ],
      "metadata": {
        "colab": {
          "base_uri": "https://localhost:8080/"
        },
        "id": "Yx_3JG3apyfB",
        "outputId": "3d8000d7-a65d-4692-e46b-be67ae21400f"
      },
      "execution_count": 380,
      "outputs": [
        {
          "output_type": "execute_result",
          "data": {
            "text/plain": [
              "array([[0.208, 0.323, 0.764, ..., 0.243, 0.   , 0.24 ],\n",
              "       [0.285, 0.338, 0.788, ..., 0.288, 0.   , 0.   ],\n",
              "       [0.482, 0.523, 0.851, ..., 0.385, 0.   , 0.   ],\n",
              "       ...,\n",
              "       [0.317, 0.54 , 0.726, ..., 0.033, 0.517, 0.   ],\n",
              "       [0.238, 0.612, 0.   , ..., 0.265, 0.543, 0.   ],\n",
              "       [0.271, 0.635, 0.   , ..., 0.296, 0.492, 0.   ]])"
            ]
          },
          "metadata": {},
          "execution_count": 380
        }
      ]
    },
    {
      "cell_type": "code",
      "source": [
        "from sklearn.preprocessing import normalize"
      ],
      "metadata": {
        "id": "3IKT79b0q06Y"
      },
      "execution_count": 381,
      "outputs": []
    },
    {
      "cell_type": "code",
      "source": [
        "A=normalize(data,norm='l2',axis=0)\n",
        "A"
      ],
      "metadata": {
        "colab": {
          "base_uri": "https://localhost:8080/"
        },
        "id": "cQTAW7NorILJ",
        "outputId": "72f48319-2bcf-4449-a652-714b0d53f2f4"
      },
      "execution_count": 382,
      "outputs": [
        {
          "output_type": "execute_result",
          "data": {
            "text/plain": [
              "array([[0.06824691, 0.06550808, 0.076988  , ..., 0.0606118 , 0.        ,\n",
              "        0.08233482],\n",
              "       [0.06832588, 0.06601549, 0.07940647, ..., 0.06425995, 0.        ,\n",
              "        0.        ],\n",
              "       [0.06852792, 0.07227357, 0.08575495, ..., 0.07212375, 0.        ,\n",
              "        0.        ],\n",
              "       ...,\n",
              "       [0.0683587 , 0.07284864, 0.07315875, ..., 0.04358708, 0.21102704,\n",
              "        0.        ],\n",
              "       [0.06827768, 0.07528422, 0.        , ..., 0.06239534, 0.22163961,\n",
              "        0.        ],\n",
              "       [0.06831152, 0.07606225, 0.        , ..., 0.06490851, 0.20082263,\n",
              "        0.        ]])"
            ]
          },
          "metadata": {},
          "execution_count": 382
        }
      ]
    },
    {
      "cell_type": "code",
      "execution_count": 383,
      "metadata": {
        "id": "OC5zOaiJT3Ez"
      },
      "outputs": [],
      "source": [
        "A_train,A_test=train_test_split(A,test_size=0.3,random_state=42)\n",
        "y_train,y_test=train_test_split(y,test_size=0.3,random_state=42)"
      ]
    },
    {
      "cell_type": "code",
      "source": [
        "data.shape"
      ],
      "metadata": {
        "colab": {
          "base_uri": "https://localhost:8080/"
        },
        "id": "SZY7r-7N0bLJ",
        "outputId": "79b65dd2-4c88-4ed3-a309-36a8f996696f"
      },
      "execution_count": 384,
      "outputs": [
        {
          "output_type": "execute_result",
          "data": {
            "text/plain": [
              "(214, 9)"
            ]
          },
          "metadata": {},
          "execution_count": 384
        }
      ]
    },
    {
      "cell_type": "code",
      "execution_count": 385,
      "metadata": {
        "id": "Nokbi8NlMUsS"
      },
      "outputs": [],
      "source": [
        "def sigma(A):\n",
        "    N = A.shape[0]\n",
        "    sigma = []\n",
        "    for i in range(N):\n",
        "        for j in range(i+1, N):\n",
        "            sigma.append(np.square(np.linalg.norm(A[i,:]-A[j,:])))\n",
        "\n",
        "    return 0.1 * np.max(sigma)"
      ]
    },
    {
      "cell_type": "code",
      "execution_count": 386,
      "metadata": {
        "colab": {
          "base_uri": "https://localhost:8080/"
        },
        "id": "8PPzNFhLMUsT",
        "outputId": "a6a319c7-ec4c-4d0c-c6ef-7b4f1118a241"
      },
      "outputs": [
        {
          "output_type": "stream",
          "name": "stdout",
          "text": [
            "0.04010848189921798\n"
          ]
        }
      ],
      "source": [
        "sig=sigma(A)\n",
        "print(sig)"
      ]
    },
    {
      "cell_type": "code",
      "execution_count": 387,
      "metadata": {
        "id": "9F_6yKAsMUsU"
      },
      "outputs": [],
      "source": [
        "def K(FV1, FV2):\n",
        "    dist = np.linalg.norm(FV1-FV2)\n",
        "    return np.exp(-1*np.square(dist)/(2*sig))"
      ]
    },
    {
      "cell_type": "code",
      "execution_count": 388,
      "metadata": {
        "id": "2Gn7TrwlMUsU"
      },
      "outputs": [],
      "source": [
        "def give_KSS(S):\n",
        "    KSS = []\n",
        "    for i in S:\n",
        "        for j in S:\n",
        "            KSS.append( K(A[i,:], A[j,:]))\n",
        "\n",
        "    return np.array(KSS).reshape((len(S), len(S)))"
      ]
    },
    {
      "cell_type": "code",
      "execution_count": 389,
      "metadata": {
        "id": "d_2rXtSnMUsV"
      },
      "outputs": [],
      "source": [
        "def give_KSx(S, x):\n",
        "    KSx = []\n",
        "    for i in S:\n",
        "        kx = K(A[i,:], x)\n",
        "        KSx.append(kx)\n",
        "    return np.array(KSx).reshape((len(S), 1))"
      ]
    },
    {
      "cell_type": "code",
      "execution_count": 390,
      "metadata": {
        "id": "PuyX6cwqMUsW"
      },
      "outputs": [],
      "source": [
        "def give_beta(S, x):\n",
        "    KSx = give_KSx(S, x).reshape(len(S), 1)\n",
        "    KSS = give_KSS(S)\n",
        "    DSS = np.diag(np.diag(np.sqrt(KSS)))\n",
        "    beta = np.dot(np.dot(np.transpose(KSx), np.linalg.inv(KSS)), DSS)\n",
        "    return beta"
      ]
    },
    {
      "cell_type": "code",
      "execution_count": 391,
      "metadata": {
        "colab": {
          "base_uri": "https://localhost:8080/"
        },
        "id": "5BveU0LsMUsW",
        "outputId": "7eeba4f6-659b-4e36-a792-464c2928891b"
      },
      "outputs": [
        {
          "output_type": "stream",
          "name": "stdout",
          "text": [
            "0.13887016883867223\n",
            "0.1871106350054205\n",
            "0.1824204891187872\n",
            "0.19323135133805103\n",
            "0.171311880947899\n",
            "0.19398747399329205\n",
            "0.183461165681866\n",
            "0.14846470630894665\n",
            "0.17554076835553029\n",
            "0.16835674400305822\n",
            "0.1443196032919119\n",
            "0.16251604801335812\n",
            "0.1656020896744116\n",
            "0.18098513092863383\n",
            "0.3131841200639023\n",
            "0.15335311280543\n",
            "0.1715781201482007\n",
            "0.3906521098153179\n",
            "0.16907819426432594\n",
            "0.1594830525235725\n",
            "0.17157811970803513\n",
            "0.1715781201848495\n",
            "0.13248090463355328\n",
            "0.16506747658741466\n",
            "0.1715781190009051\n",
            "0.17157811918055776\n",
            "0.16560546861283382\n",
            "0.16340905612436996\n",
            "0.17822247840270877\n",
            "0.17157812071018205\n",
            "0.1634348699853017\n",
            "0.1720570762063649\n",
            "0.16748210559700732\n",
            "0.18322867914591665\n",
            "0.19602684595923933\n",
            "0.20079466418324393\n",
            "0.17157812016569085\n",
            "0.16577573577592228\n",
            "0.17157812061477584\n",
            "0.16446969455532737\n",
            "0.18140836426916218\n",
            "0.14314870749942774\n",
            "0.16318499699294806\n",
            "0.17157811963305114\n",
            "0.1715781202748941\n",
            "0.17821907951155522\n",
            "0.17157812022393376\n",
            "0.18353918207126352\n",
            "0.3952873961026097\n",
            "0.16128904575542635\n",
            "0.1764950228467959\n",
            "0.19214375773046083\n",
            "0.16548408614048882\n",
            "0.17483468202801328\n",
            "0.1710939277964421\n",
            "0.17157812001780168\n",
            "0.1826205953248183\n",
            "0.1715781197892502\n",
            "0.18949559655375323\n",
            "0.17157812059222075\n",
            "0.17157812015547894\n",
            "0.12485316930951161\n",
            "0.16597066457965431\n",
            "0.08155407424619691\n",
            "0.1585783267686993\n",
            "0.17248979596696068\n",
            "0.17157811987352992\n",
            "0.17157812030339972\n",
            "0.17157812000265313\n",
            "0.17157812019100033\n",
            "0.16234266462823935\n",
            "0.15292260636284144\n",
            "0.1780413713370384\n",
            "0.17157811984513416\n",
            "0.17157812099282402\n",
            "0.17157811940562154\n",
            "0.170240583787054\n",
            "0.16763373627609682\n",
            "0.17598231447097476\n",
            "0.15438720694742475\n",
            "0.17473183873357873\n",
            "0.17157812010341197\n",
            "0.18613476446943505\n",
            "0.1671916573050387\n",
            "0.17738928703699877\n",
            "0.1715781199323143\n",
            "0.1830475323173053\n",
            "0.1396142734759106\n",
            "0.2825367166389382\n",
            "0.17508999176906573\n",
            "0.1715781196105467\n",
            "0.17157812009012044\n",
            "0.1809030058671846\n",
            "0.17157812018723642\n",
            "0.1808478483631434\n",
            "0.13869414387342408\n",
            "[1, 103, 115, 105, 63, 74, 127, 94, 86, 108, 140, 40, 33, 131, 114, 83, 134, 50, 39, 45, 70, 95, 28, 137, 60, 122, 142, 113, 31, 71, 25, 89, 15, 43, 107]\n"
          ]
        }
      ],
      "source": [
        "minor_index=np.where(y_train==1)[0].tolist()\n",
        "lambdamax=-np.inf\n",
        "best_iter=-1\n",
        "counter=0\n",
        "total_S=[]\n",
        "lam = []\n",
        "for i in minor_index:\n",
        "    current_S=[i]\n",
        "    ctrl=1\n",
        "    while (len(current_S)<N_m and ctrl==1):\n",
        "        current_inv =np.linalg.inv(give_KSS(current_S))\n",
        "        max_LF=-np.inf\n",
        "        max_LF_index=-1\n",
        "        remaining=list(set(range(A_train.shape[0]))-set(current_S))\n",
        "        #print(remaining)\n",
        "        for j in remaining:\n",
        "            KSx=give_KSx(current_S,A_train[j,:])\n",
        "            LF =abs(1-((KSx.T).dot(current_inv).dot(KSx)))\n",
        "            if LF> max_LF:\n",
        "                max_LF=LF\n",
        "                max_LF_index=j\n",
        "        if(max_LF<0.001):\n",
        "            ctrl=0\n",
        "        else:\n",
        "            current_S.append(max_LF_index)\n",
        "    total_S.append(current_S)\n",
        "    \n",
        "    S0=list(set(current_S)& (set(range(A_train.shape[0]))-set(minor_index)))\n",
        "    S1=list(set(current_S) & set(minor_index))\n",
        "    B0=np.zeros((len(S0),len(current_S) ))\n",
        "    B1=np.zeros((len(S1), len(current_S)))\n",
        "    rownum=0\n",
        "    for k in S0:\n",
        "        B0[rownum,:]=give_beta(current_S, A_train[k,:]).flatten()\n",
        "        rownum=rownum+1\n",
        "    rownum=0\n",
        "    for k in S1:\n",
        "        B1[rownum,:]=give_beta(current_S, A_train[k,:]).flatten()\n",
        "        rownum=rownum+1\n",
        "        \n",
        "    mean0=B0.mean(axis=0)\n",
        "    mean1=B1.mean(axis=0)\n",
        "    \n",
        "    var0=B0.var(axis=0)\n",
        "    var1=B1.var(axis=0)\n",
        "    \n",
        "    lam=(((mean0-mean1)**2)/(var0+var1))\n",
        "    \n",
        "\n",
        "    total_lam=np.sum(lam)/np.shape(lam)[0]\n",
        "    print(total_lam)\n",
        "    if(lambdamax<total_lam-1000*((1-(((y_train[current_S]==2).sum())/((y_train[current_S]==1).sum())))**2)):\n",
        "        lambdamax=total_lam\n",
        "        best_iter=counter\n",
        "    counter=counter+1\n",
        "\n",
        "\n",
        "\n",
        "\n",
        "A_train[total_S[best_iter],:]\n",
        "\n",
        "print(total_S[best_iter])\n",
        "        \n",
        "    \n",
        "    \n",
        "    "
      ]
    },
    {
      "cell_type": "code",
      "execution_count": 396,
      "metadata": {
        "id": "_HYlF84UMUsY"
      },
      "outputs": [],
      "source": [
        "model = svm.SVC(C=1000,kernel = \"rbf\", gamma =1/(2*sig))"
      ]
    },
    {
      "cell_type": "code",
      "execution_count": 398,
      "metadata": {
        "colab": {
          "base_uri": "https://localhost:8080/"
        },
        "id": "zY_2C7vEMUsZ",
        "outputId": "1eeb4d78-0a5f-4027-f88b-db30a1110177"
      },
      "outputs": [
        {
          "output_type": "execute_result",
          "data": {
            "text/plain": [
              "SVC(C=1000, gamma=12.466191097842295)"
            ]
          },
          "metadata": {},
          "execution_count": 398
        }
      ],
      "source": [
        "model.fit(A_train[total_S[best_iter],:], y_train[total_S[best_iter]])"
      ]
    },
    {
      "cell_type": "code",
      "execution_count": 399,
      "metadata": {
        "colab": {
          "base_uri": "https://localhost:8080/"
        },
        "id": "zw_7YLDsMUsa",
        "outputId": "cf6f978a-10da-4874-d4e3-3226eb9e461a"
      },
      "outputs": [
        {
          "output_type": "execute_result",
          "data": {
            "text/plain": [
              "0.5230769230769231"
            ]
          },
          "metadata": {},
          "execution_count": 399
        }
      ],
      "source": [
        "model.score(A_test, y_test)"
      ]
    },
    {
      "cell_type": "code",
      "source": [
        "model.score(A_valid, y_valid)"
      ],
      "metadata": {
        "colab": {
          "base_uri": "https://localhost:8080/",
          "height": 311
        },
        "id": "KD-Xrfo_yYm4",
        "outputId": "947fcfc3-e26e-4a67-ae4c-d56e2cdf7a47"
      },
      "execution_count": 400,
      "outputs": [
        {
          "output_type": "error",
          "ename": "ValueError",
          "evalue": "ignored",
          "traceback": [
            "\u001b[0;31m---------------------------------------------------------------------------\u001b[0m",
            "\u001b[0;31mValueError\u001b[0m                                Traceback (most recent call last)",
            "\u001b[0;32m<ipython-input-400-22a3fcf8896a>\u001b[0m in \u001b[0;36m<module>\u001b[0;34m()\u001b[0m\n\u001b[0;32m----> 1\u001b[0;31m \u001b[0mmodel\u001b[0m\u001b[0;34m.\u001b[0m\u001b[0mscore\u001b[0m\u001b[0;34m(\u001b[0m\u001b[0mA_valid\u001b[0m\u001b[0;34m,\u001b[0m \u001b[0my_valid\u001b[0m\u001b[0;34m)\u001b[0m\u001b[0;34m\u001b[0m\u001b[0;34m\u001b[0m\u001b[0m\n\u001b[0m",
            "\u001b[0;32m/usr/local/lib/python3.7/dist-packages/sklearn/base.py\u001b[0m in \u001b[0;36mscore\u001b[0;34m(self, X, y, sample_weight)\u001b[0m\n\u001b[1;32m    649\u001b[0m         \u001b[0;32mfrom\u001b[0m \u001b[0;34m.\u001b[0m\u001b[0mmetrics\u001b[0m \u001b[0;32mimport\u001b[0m \u001b[0maccuracy_score\u001b[0m\u001b[0;34m\u001b[0m\u001b[0;34m\u001b[0m\u001b[0m\n\u001b[1;32m    650\u001b[0m \u001b[0;34m\u001b[0m\u001b[0m\n\u001b[0;32m--> 651\u001b[0;31m         \u001b[0;32mreturn\u001b[0m \u001b[0maccuracy_score\u001b[0m\u001b[0;34m(\u001b[0m\u001b[0my\u001b[0m\u001b[0;34m,\u001b[0m \u001b[0mself\u001b[0m\u001b[0;34m.\u001b[0m\u001b[0mpredict\u001b[0m\u001b[0;34m(\u001b[0m\u001b[0mX\u001b[0m\u001b[0;34m)\u001b[0m\u001b[0;34m,\u001b[0m \u001b[0msample_weight\u001b[0m\u001b[0;34m=\u001b[0m\u001b[0msample_weight\u001b[0m\u001b[0;34m)\u001b[0m\u001b[0;34m\u001b[0m\u001b[0;34m\u001b[0m\u001b[0m\n\u001b[0m\u001b[1;32m    652\u001b[0m \u001b[0;34m\u001b[0m\u001b[0m\n\u001b[1;32m    653\u001b[0m     \u001b[0;32mdef\u001b[0m \u001b[0m_more_tags\u001b[0m\u001b[0;34m(\u001b[0m\u001b[0mself\u001b[0m\u001b[0;34m)\u001b[0m\u001b[0;34m:\u001b[0m\u001b[0;34m\u001b[0m\u001b[0;34m\u001b[0m\u001b[0m\n",
            "\u001b[0;32m/usr/local/lib/python3.7/dist-packages/sklearn/svm/_base.py\u001b[0m in \u001b[0;36mpredict\u001b[0;34m(self, X)\u001b[0m\n\u001b[1;32m    789\u001b[0m             \u001b[0my\u001b[0m \u001b[0;34m=\u001b[0m \u001b[0mnp\u001b[0m\u001b[0;34m.\u001b[0m\u001b[0margmax\u001b[0m\u001b[0;34m(\u001b[0m\u001b[0mself\u001b[0m\u001b[0;34m.\u001b[0m\u001b[0mdecision_function\u001b[0m\u001b[0;34m(\u001b[0m\u001b[0mX\u001b[0m\u001b[0;34m)\u001b[0m\u001b[0;34m,\u001b[0m \u001b[0maxis\u001b[0m\u001b[0;34m=\u001b[0m\u001b[0;36m1\u001b[0m\u001b[0;34m)\u001b[0m\u001b[0;34m\u001b[0m\u001b[0;34m\u001b[0m\u001b[0m\n\u001b[1;32m    790\u001b[0m         \u001b[0;32melse\u001b[0m\u001b[0;34m:\u001b[0m\u001b[0;34m\u001b[0m\u001b[0;34m\u001b[0m\u001b[0m\n\u001b[0;32m--> 791\u001b[0;31m             \u001b[0my\u001b[0m \u001b[0;34m=\u001b[0m \u001b[0msuper\u001b[0m\u001b[0;34m(\u001b[0m\u001b[0;34m)\u001b[0m\u001b[0;34m.\u001b[0m\u001b[0mpredict\u001b[0m\u001b[0;34m(\u001b[0m\u001b[0mX\u001b[0m\u001b[0;34m)\u001b[0m\u001b[0;34m\u001b[0m\u001b[0;34m\u001b[0m\u001b[0m\n\u001b[0m\u001b[1;32m    792\u001b[0m         \u001b[0;32mreturn\u001b[0m \u001b[0mself\u001b[0m\u001b[0;34m.\u001b[0m\u001b[0mclasses_\u001b[0m\u001b[0;34m.\u001b[0m\u001b[0mtake\u001b[0m\u001b[0;34m(\u001b[0m\u001b[0mnp\u001b[0m\u001b[0;34m.\u001b[0m\u001b[0masarray\u001b[0m\u001b[0;34m(\u001b[0m\u001b[0my\u001b[0m\u001b[0;34m,\u001b[0m \u001b[0mdtype\u001b[0m\u001b[0;34m=\u001b[0m\u001b[0mnp\u001b[0m\u001b[0;34m.\u001b[0m\u001b[0mintp\u001b[0m\u001b[0;34m)\u001b[0m\u001b[0;34m)\u001b[0m\u001b[0;34m\u001b[0m\u001b[0;34m\u001b[0m\u001b[0m\n\u001b[1;32m    793\u001b[0m \u001b[0;34m\u001b[0m\u001b[0m\n",
            "\u001b[0;32m/usr/local/lib/python3.7/dist-packages/sklearn/svm/_base.py\u001b[0m in \u001b[0;36mpredict\u001b[0;34m(self, X)\u001b[0m\n\u001b[1;32m    412\u001b[0m             \u001b[0mThe\u001b[0m \u001b[0mpredicted\u001b[0m \u001b[0mvalues\u001b[0m\u001b[0;34m.\u001b[0m\u001b[0;34m\u001b[0m\u001b[0;34m\u001b[0m\u001b[0m\n\u001b[1;32m    413\u001b[0m         \"\"\"\n\u001b[0;32m--> 414\u001b[0;31m         \u001b[0mX\u001b[0m \u001b[0;34m=\u001b[0m \u001b[0mself\u001b[0m\u001b[0;34m.\u001b[0m\u001b[0m_validate_for_predict\u001b[0m\u001b[0;34m(\u001b[0m\u001b[0mX\u001b[0m\u001b[0;34m)\u001b[0m\u001b[0;34m\u001b[0m\u001b[0;34m\u001b[0m\u001b[0m\n\u001b[0m\u001b[1;32m    415\u001b[0m         \u001b[0mpredict\u001b[0m \u001b[0;34m=\u001b[0m \u001b[0mself\u001b[0m\u001b[0;34m.\u001b[0m\u001b[0m_sparse_predict\u001b[0m \u001b[0;32mif\u001b[0m \u001b[0mself\u001b[0m\u001b[0;34m.\u001b[0m\u001b[0m_sparse\u001b[0m \u001b[0;32melse\u001b[0m \u001b[0mself\u001b[0m\u001b[0;34m.\u001b[0m\u001b[0m_dense_predict\u001b[0m\u001b[0;34m\u001b[0m\u001b[0;34m\u001b[0m\u001b[0m\n\u001b[1;32m    416\u001b[0m         \u001b[0;32mreturn\u001b[0m \u001b[0mpredict\u001b[0m\u001b[0;34m(\u001b[0m\u001b[0mX\u001b[0m\u001b[0;34m)\u001b[0m\u001b[0;34m\u001b[0m\u001b[0;34m\u001b[0m\u001b[0m\n",
            "\u001b[0;32m/usr/local/lib/python3.7/dist-packages/sklearn/svm/_base.py\u001b[0m in \u001b[0;36m_validate_for_predict\u001b[0;34m(self, X)\u001b[0m\n\u001b[1;32m    596\u001b[0m                 \u001b[0morder\u001b[0m\u001b[0;34m=\u001b[0m\u001b[0;34m\"C\"\u001b[0m\u001b[0;34m,\u001b[0m\u001b[0;34m\u001b[0m\u001b[0;34m\u001b[0m\u001b[0m\n\u001b[1;32m    597\u001b[0m                 \u001b[0maccept_large_sparse\u001b[0m\u001b[0;34m=\u001b[0m\u001b[0;32mFalse\u001b[0m\u001b[0;34m,\u001b[0m\u001b[0;34m\u001b[0m\u001b[0;34m\u001b[0m\u001b[0m\n\u001b[0;32m--> 598\u001b[0;31m                 \u001b[0mreset\u001b[0m\u001b[0;34m=\u001b[0m\u001b[0;32mFalse\u001b[0m\u001b[0;34m,\u001b[0m\u001b[0;34m\u001b[0m\u001b[0;34m\u001b[0m\u001b[0m\n\u001b[0m\u001b[1;32m    599\u001b[0m             )\n\u001b[1;32m    600\u001b[0m \u001b[0;34m\u001b[0m\u001b[0m\n",
            "\u001b[0;32m/usr/local/lib/python3.7/dist-packages/sklearn/base.py\u001b[0m in \u001b[0;36m_validate_data\u001b[0;34m(self, X, y, reset, validate_separately, **check_params)\u001b[0m\n\u001b[1;32m    583\u001b[0m \u001b[0;34m\u001b[0m\u001b[0m\n\u001b[1;32m    584\u001b[0m         \u001b[0;32mif\u001b[0m \u001b[0;32mnot\u001b[0m \u001b[0mno_val_X\u001b[0m \u001b[0;32mand\u001b[0m \u001b[0mcheck_params\u001b[0m\u001b[0;34m.\u001b[0m\u001b[0mget\u001b[0m\u001b[0;34m(\u001b[0m\u001b[0;34m\"ensure_2d\"\u001b[0m\u001b[0;34m,\u001b[0m \u001b[0;32mTrue\u001b[0m\u001b[0;34m)\u001b[0m\u001b[0;34m:\u001b[0m\u001b[0;34m\u001b[0m\u001b[0;34m\u001b[0m\u001b[0m\n\u001b[0;32m--> 585\u001b[0;31m             \u001b[0mself\u001b[0m\u001b[0;34m.\u001b[0m\u001b[0m_check_n_features\u001b[0m\u001b[0;34m(\u001b[0m\u001b[0mX\u001b[0m\u001b[0;34m,\u001b[0m \u001b[0mreset\u001b[0m\u001b[0;34m=\u001b[0m\u001b[0mreset\u001b[0m\u001b[0;34m)\u001b[0m\u001b[0;34m\u001b[0m\u001b[0;34m\u001b[0m\u001b[0m\n\u001b[0m\u001b[1;32m    586\u001b[0m \u001b[0;34m\u001b[0m\u001b[0m\n\u001b[1;32m    587\u001b[0m         \u001b[0;32mreturn\u001b[0m \u001b[0mout\u001b[0m\u001b[0;34m\u001b[0m\u001b[0;34m\u001b[0m\u001b[0m\n",
            "\u001b[0;32m/usr/local/lib/python3.7/dist-packages/sklearn/base.py\u001b[0m in \u001b[0;36m_check_n_features\u001b[0;34m(self, X, reset)\u001b[0m\n\u001b[1;32m    399\u001b[0m         \u001b[0;32mif\u001b[0m \u001b[0mn_features\u001b[0m \u001b[0;34m!=\u001b[0m \u001b[0mself\u001b[0m\u001b[0;34m.\u001b[0m\u001b[0mn_features_in_\u001b[0m\u001b[0;34m:\u001b[0m\u001b[0;34m\u001b[0m\u001b[0;34m\u001b[0m\u001b[0m\n\u001b[1;32m    400\u001b[0m             raise ValueError(\n\u001b[0;32m--> 401\u001b[0;31m                 \u001b[0;34mf\"X has {n_features} features, but {self.__class__.__name__} \"\u001b[0m\u001b[0;34m\u001b[0m\u001b[0;34m\u001b[0m\u001b[0m\n\u001b[0m\u001b[1;32m    402\u001b[0m                 \u001b[0;34mf\"is expecting {self.n_features_in_} features as input.\"\u001b[0m\u001b[0;34m\u001b[0m\u001b[0;34m\u001b[0m\u001b[0m\n\u001b[1;32m    403\u001b[0m             )\n",
            "\u001b[0;31mValueError\u001b[0m: X has 7 features, but SVC is expecting 9 features as input."
          ]
        }
      ]
    },
    {
      "cell_type": "code",
      "execution_count": 401,
      "metadata": {
        "id": "JRr80fmMMUsa"
      },
      "outputs": [],
      "source": [
        "# Enter minor major labels\n",
        "minor_cls = 2\n",
        "major_cls = 1\n",
        "cls_types= np.array([major_cls, minor_cls])"
      ]
    },
    {
      "cell_type": "code",
      "execution_count": 402,
      "metadata": {
        "colab": {
          "base_uri": "https://localhost:8080/"
        },
        "id": "icgSaoWiMUsb",
        "outputId": "4994a534-bb47-4be1-e6ac-c5aeb0d6764f"
      },
      "outputs": [
        {
          "output_type": "execute_result",
          "data": {
            "text/plain": [
              "array([1, 2])"
            ]
          },
          "metadata": {},
          "execution_count": 402
        }
      ],
      "source": [
        "cls_types"
      ]
    },
    {
      "cell_type": "code",
      "execution_count": 403,
      "metadata": {
        "colab": {
          "base_uri": "https://localhost:8080/",
          "height": 489
        },
        "id": "R4g7XSeaMUsb",
        "outputId": "e22f59c8-68d0-4686-f2d2-8e36487fd73c"
      },
      "outputs": [
        {
          "output_type": "execute_result",
          "data": {
            "text/plain": [
              "Text(0.5, 89.87999999999997, 'Predicted')"
            ]
          },
          "metadata": {},
          "execution_count": 403
        },
        {
          "output_type": "display_data",
          "data": {
            "text/plain": [
              "<Figure size 576x576 with 2 Axes>"
            ],
            "image/png": "[encoded data removed]"
          },
          "metadata": {
            "needs_background": "light"
          }
        }
      ],
      "source": [
        "Y_pred = model.predict(A_test)\n",
        "Y_true = y_test\n",
        "cm = confusion_matrix(Y_true, Y_pred)\n",
        "plt.figure(figsize=(8, 8))\n",
        "ax = sns.heatmap(cm, cmap=plt.cm.Greens, annot=True, square=True, xticklabels=cls_types, yticklabels=cls_types)\n",
        "ax.set_ylabel('Actual')\n",
        "ax.set_xlabel('Predicted')"
      ]
    },
    {
      "cell_type": "code",
      "execution_count": 404,
      "metadata": {
        "id": "3Qva_LQgMUsc"
      },
      "outputs": [],
      "source": [
        "TN = cm[0][0]\n",
        "TP = cm[1][1]\n",
        "FN = cm[1][0]\n",
        "FP = cm[0][1]\n",
        "\n",
        "TPR = TP / (TP+FN)\n",
        "TNR = TN / (TN+FP)\n",
        "precision = TP / (TP+FP)\n",
        "recall=TP/(TP+FN)                  "
      ]
    },
    {
      "cell_type": "code",
      "execution_count": 405,
      "metadata": {
        "colab": {
          "base_uri": "https://localhost:8080/"
        },
        "id": "PQph7TI6MUsd",
        "outputId": "9313886a-1105-430e-fff3-fd5be8025825"
      },
      "outputs": [
        {
          "output_type": "stream",
          "name": "stdout",
          "text": [
            "0.0\n",
            "nan\n",
            "0.0\n",
            "0.0\n"
          ]
        },
        {
          "output_type": "stream",
          "name": "stderr",
          "text": [
            "/usr/local/lib/python3.7/dist-packages/ipykernel_launcher.py:2: RuntimeWarning: invalid value encountered in double_scalars\n",
            "  \n"
          ]
        }
      ],
      "source": [
        "G_mean = np.sqrt(TPR*TNR)\n",
        "F_measure = (2*precision*TPR)/(precision+TPR)\n",
        "\n",
        "print(G_mean)\n",
        "print(F_measure)\n",
        "print(precision)\n",
        "print(recall)"
      ]
    },
    {
      "cell_type": "code",
      "execution_count": null,
      "metadata": {
        "id": "1IRh0r0NF_mU",
        "scrolled": false
      },
      "outputs": [],
      "source": [
        "x1 = A_train[:, 0]\n",
        "x2 = A_train[:, 1]\n",
        "y1 = y_train.astype(int)\n",
        "#plt.scatter(x1[y1==0], x2[y1==0], s=25, c='r')\n",
        "#plt.scatter(x1[y1==1], x2[y1==1], s=25, c='b')\n",
        "plot_decision_regions(A_train[total_S[best_iter],:], y_train[total_S[best_iter]], clf=model)"
      ]
    },
    {
      "cell_type": "code",
      "execution_count": null,
      "metadata": {
        "id": "eYWLfXGoT3Fm"
      },
      "outputs": [],
      "source": [
        "x3 = A_test[:, 0]\n",
        "x4 = A_test[:, 1]\n",
        "y2 = y_test.astype(int)\n",
        "plt.scatter(x3[y2==0], x4[y2==0], s=25, c='green')\n",
        "plt.scatter(x3[y2==1], x4[y2==1], s=25, c='orange')\n",
        "plot_decision_regions(A_test, y_test, clf=model)"
      ]
    },
    {
      "cell_type": "code",
      "source": [
        ""
      ],
      "metadata": {
        "id": "YLDBlcszgPbl"
      },
      "execution_count": null,
      "outputs": []
    }
  ],
  "metadata": {
    "colab": {
      "name": "code_fvs (2).ipynb",
      "provenance": [],
      "collapsed_sections": [],
      "include_colab_link": true
    },
    "kernelspec": {
      "display_name": "Python 3",
      "language": "python",
      "name": "python3"
    },
    "language_info": {
      "codemirror_mode": {
        "name": "ipython",
        "version": 3
      },
      "file_extension": ".py",
      "mimetype": "text/x-python",
      "name": "python",
      "nbconvert_exporter": "python",
      "pygments_lexer": "ipython3",
      "version": "3.8.5"
    },
    "gpuClass": "standard",
    "accelerator": "GPU"
  },
  "nbformat": 4,
  "nbformat_minor": 0
}