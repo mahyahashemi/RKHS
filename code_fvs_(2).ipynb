{
  "cells": [
    {
      "cell_type": "markdown",
      "metadata": {
        "id": "view-in-github",
        "colab_type": "text"
      },
      "source": [
        "<a href=\"https://colab.research.google.com/github/mahyahashemi/RKHS_Project/blob/main/code_fvs_(2).ipynb\" target=\"_parent\"><img src=\"https://colab.research.google.com/assets/colab-badge.svg\" alt=\"Open In Colab\"/></a>"
      ]
    },
    {
      "cell_type": "code",
      "execution_count": 49,
      "metadata": {
        "id": "Ry-tH86rMUsL"
      },
      "outputs": [],
      "source": [
        "import pandas as pd\n",
        "import numpy as np\n",
        "import matplotlib.pyplot as plt\n",
        "import os\n",
        "from sklearn.metrics import confusion_matrix\n",
        "from sklearn import datasets, svm\n",
        "import seaborn as sns\n",
        "from sklearn.model_selection import train_test_split\n",
        "from mlxtend.plotting import plot_decision_regions"
      ]
    },
    {
      "cell_type": "code",
      "execution_count": 104,
      "metadata": {
        "id": "pGRHwj2QMUsP"
      },
      "outputs": [],
      "source": [
        "N_m=50"
      ]
    },
    {
      "cell_type": "code",
      "source": [
        "url = 'https://raw.githubusercontent.com/mahyahashemi/RKHS_Project/main/datasets/ecoli3.csv'\n",
        "sample = pd.read_csv(url, on_bad_lines='skip')"
      ],
      "metadata": {
        "id": "Il1mvNaFUGmM"
      },
      "execution_count": 105,
      "outputs": []
    },
    {
      "cell_type": "code",
      "source": [
        "pip install --upgrade category_encoders"
      ],
      "metadata": {
        "colab": {
          "base_uri": "https://localhost:8080/"
        },
        "id": "gdn24xxiUQVm",
        "outputId": "8dedfb44-3be6-4162-aecb-7bd463751e3c"
      },
      "execution_count": 106,
      "outputs": [
        {
          "output_type": "stream",
          "name": "stdout",
          "text": [
            "Looking in indexes: https://pypi.org/simple, https://us-python.pkg.dev/colab-wheels/public/simple/\n",
            "Requirement already satisfied: category_encoders in /usr/local/lib/python3.7/dist-packages (2.5.0)\n",
            "Requirement already satisfied: pandas>=1.0.5 in /usr/local/lib/python3.7/dist-packages (from category_encoders) (1.3.5)\n",
            "Requirement already satisfied: scipy>=1.0.0 in /usr/local/lib/python3.7/dist-packages (from category_encoders) (1.7.3)\n",
            "Requirement already satisfied: numpy>=1.14.0 in /usr/local/lib/python3.7/dist-packages (from category_encoders) (1.21.6)\n",
            "Requirement already satisfied: patsy>=0.5.1 in /usr/local/lib/python3.7/dist-packages (from category_encoders) (0.5.2)\n",
            "Requirement already satisfied: scikit-learn>=0.20.0 in /usr/local/lib/python3.7/dist-packages (from category_encoders) (1.0.2)\n",
            "Requirement already satisfied: statsmodels>=0.9.0 in /usr/local/lib/python3.7/dist-packages (from category_encoders) (0.10.2)\n",
            "Requirement already satisfied: pytz>=2017.3 in /usr/local/lib/python3.7/dist-packages (from pandas>=1.0.5->category_encoders) (2022.1)\n",
            "Requirement already satisfied: python-dateutil>=2.7.3 in /usr/local/lib/python3.7/dist-packages (from pandas>=1.0.5->category_encoders) (2.8.2)\n",
            "Requirement already satisfied: six in /usr/local/lib/python3.7/dist-packages (from patsy>=0.5.1->category_encoders) (1.15.0)\n",
            "Requirement already satisfied: joblib>=0.11 in /usr/local/lib/python3.7/dist-packages (from scikit-learn>=0.20.0->category_encoders) (1.1.0)\n",
            "Requirement already satisfied: threadpoolctl>=2.0.0 in /usr/local/lib/python3.7/dist-packages (from scikit-learn>=0.20.0->category_encoders) (3.1.0)\n"
          ]
        }
      ]
    },
    {
      "cell_type": "code",
      "source": [
        "import category_encoders as ce\n",
        "encoder = ce.OrdinalEncoder(cols=['Class'])\n",
        "encoder"
      ],
      "metadata": {
        "colab": {
          "base_uri": "https://localhost:8080/"
        },
        "id": "H2jOOl6EUV0A",
        "outputId": "c5936f96-2718-4957-c1ea-576c704031fc"
      },
      "execution_count": 107,
      "outputs": [
        {
          "output_type": "execute_result",
          "data": {
            "text/plain": [
              "OrdinalEncoder(cols=['Class'])"
            ]
          },
          "metadata": {},
          "execution_count": 107
        }
      ]
    },
    {
      "cell_type": "code",
      "source": [
        "sample=encoder.fit_transform(sample)"
      ],
      "metadata": {
        "id": "4tgCF06nUXsX"
      },
      "execution_count": 108,
      "outputs": []
    },
    {
      "cell_type": "code",
      "source": [
        "sample=sample.fillna(0)\n",
        "sample"
      ],
      "metadata": {
        "colab": {
          "base_uri": "https://localhost:8080/",
          "height": 424
        },
        "id": "h6hYIkcMq9L4",
        "outputId": "810b1134-2b54-4bb6-86c9-0522f1de1cd4"
      },
      "execution_count": 109,
      "outputs": [
        {
          "output_type": "execute_result",
          "data": {
            "text/plain": [
              "      Mcg   Gvh   Lip  Chg   Aac  Alm1  Alm2  Class\n",
              "0    0.68  0.49  1.00  0.5  0.62  0.55  0.28      1\n",
              "1    0.75  0.84  0.48  0.5  0.35  0.52  0.33      1\n",
              "2    0.52  0.44  0.48  0.5  0.37  0.36  0.42      1\n",
              "3    0.87  0.49  0.48  0.5  0.61  0.76  0.79      2\n",
              "4    0.41  0.51  0.48  0.5  0.58  0.20  0.31      1\n",
              "..    ...   ...   ...  ...   ...   ...   ...    ...\n",
              "331  0.64  0.81  0.48  0.5  0.37  0.39  0.44      1\n",
              "332  0.71  0.71  0.48  0.5  0.68  0.43  0.36      1\n",
              "333  0.53  0.38  0.48  0.5  0.44  0.26  0.36      1\n",
              "334  0.86  0.39  0.48  0.5  0.59  0.89  0.90      2\n",
              "335  0.57  0.59  0.48  0.5  0.39  0.47  0.33      1\n",
              "\n",
              "[336 rows x 8 columns]"
            ],
            "text/html": [
              "\n",
              "  <div id=\"df-a84fc444-7ef1-49fd-a5dd-48f4eb729d91\">\n",
              "    <div class=\"colab-df-container\">\n",
              "      <div>\n",
              "<style scoped>\n",
              "    .dataframe tbody tr th:only-of-type {\n",
              "        vertical-align: middle;\n",
              "    }\n",
              "\n",
              "    .dataframe tbody tr th {\n",
              "        vertical-align: top;\n",
              "    }\n",
              "\n",
              "    .dataframe thead th {\n",
              "        text-align: right;\n",
              "    }\n",
              "</style>\n",
              "<table border=\"1\" class=\"dataframe\">\n",
              "  <thead>\n",
              "    <tr style=\"text-align: right;\">\n",
              "      <th></th>\n",
              "      <th>Mcg</th>\n",
              "      <th>Gvh</th>\n",
              "      <th>Lip</th>\n",
              "      <th>Chg</th>\n",
              "      <th>Aac</th>\n",
              "      <th>Alm1</th>\n",
              "      <th>Alm2</th>\n",
              "      <th>Class</th>\n",
              "    </tr>\n",
              "  </thead>\n",
              "  <tbody>\n",
              "    <tr>\n",
              "      <th>0</th>\n",
              "      <td>0.68</td>\n",
              "      <td>0.49</td>\n",
              "      <td>1.00</td>\n",
              "      <td>0.5</td>\n",
              "      <td>0.62</td>\n",
              "      <td>0.55</td>\n",
              "      <td>0.28</td>\n",
              "      <td>1</td>\n",
              "    </tr>\n",
              "    <tr>\n",
              "      <th>1</th>\n",
              "      <td>0.75</td>\n",
              "      <td>0.84</td>\n",
              "      <td>0.48</td>\n",
              "      <td>0.5</td>\n",
              "      <td>0.35</td>\n",
              "      <td>0.52</td>\n",
              "      <td>0.33</td>\n",
              "      <td>1</td>\n",
              "    </tr>\n",
              "    <tr>\n",
              "      <th>2</th>\n",
              "      <td>0.52</td>\n",
              "      <td>0.44</td>\n",
              "      <td>0.48</td>\n",
              "      <td>0.5</td>\n",
              "      <td>0.37</td>\n",
              "      <td>0.36</td>\n",
              "      <td>0.42</td>\n",
              "      <td>1</td>\n",
              "    </tr>\n",
              "    <tr>\n",
              "      <th>3</th>\n",
              "      <td>0.87</td>\n",
              "      <td>0.49</td>\n",
              "      <td>0.48</td>\n",
              "      <td>0.5</td>\n",
              "      <td>0.61</td>\n",
              "      <td>0.76</td>\n",
              "      <td>0.79</td>\n",
              "      <td>2</td>\n",
              "    </tr>\n",
              "    <tr>\n",
              "      <th>4</th>\n",
              "      <td>0.41</td>\n",
              "      <td>0.51</td>\n",
              "      <td>0.48</td>\n",
              "      <td>0.5</td>\n",
              "      <td>0.58</td>\n",
              "      <td>0.20</td>\n",
              "      <td>0.31</td>\n",
              "      <td>1</td>\n",
              "    </tr>\n",
              "    <tr>\n",
              "      <th>...</th>\n",
              "      <td>...</td>\n",
              "      <td>...</td>\n",
              "      <td>...</td>\n",
              "      <td>...</td>\n",
              "      <td>...</td>\n",
              "      <td>...</td>\n",
              "      <td>...</td>\n",
              "      <td>...</td>\n",
              "    </tr>\n",
              "    <tr>\n",
              "      <th>331</th>\n",
              "      <td>0.64</td>\n",
              "      <td>0.81</td>\n",
              "      <td>0.48</td>\n",
              "      <td>0.5</td>\n",
              "      <td>0.37</td>\n",
              "      <td>0.39</td>\n",
              "      <td>0.44</td>\n",
              "      <td>1</td>\n",
              "    </tr>\n",
              "    <tr>\n",
              "      <th>332</th>\n",
              "      <td>0.71</td>\n",
              "      <td>0.71</td>\n",
              "      <td>0.48</td>\n",
              "      <td>0.5</td>\n",
              "      <td>0.68</td>\n",
              "      <td>0.43</td>\n",
              "      <td>0.36</td>\n",
              "      <td>1</td>\n",
              "    </tr>\n",
              "    <tr>\n",
              "      <th>333</th>\n",
              "      <td>0.53</td>\n",
              "      <td>0.38</td>\n",
              "      <td>0.48</td>\n",
              "      <td>0.5</td>\n",
              "      <td>0.44</td>\n",
              "      <td>0.26</td>\n",
              "      <td>0.36</td>\n",
              "      <td>1</td>\n",
              "    </tr>\n",
              "    <tr>\n",
              "      <th>334</th>\n",
              "      <td>0.86</td>\n",
              "      <td>0.39</td>\n",
              "      <td>0.48</td>\n",
              "      <td>0.5</td>\n",
              "      <td>0.59</td>\n",
              "      <td>0.89</td>\n",
              "      <td>0.90</td>\n",
              "      <td>2</td>\n",
              "    </tr>\n",
              "    <tr>\n",
              "      <th>335</th>\n",
              "      <td>0.57</td>\n",
              "      <td>0.59</td>\n",
              "      <td>0.48</td>\n",
              "      <td>0.5</td>\n",
              "      <td>0.39</td>\n",
              "      <td>0.47</td>\n",
              "      <td>0.33</td>\n",
              "      <td>1</td>\n",
              "    </tr>\n",
              "  </tbody>\n",
              "</table>\n",
              "<p>336 rows × 8 columns</p>\n",
              "</div>\n",
              "      <button class=\"colab-df-convert\" onclick=\"convertToInteractive('df-a84fc444-7ef1-49fd-a5dd-48f4eb729d91')\"\n",
              "              title=\"Convert this dataframe to an interactive table.\"\n",
              "              style=\"display:none;\">\n",
              "        \n",
              "  <svg xmlns=\"http://www.w3.org/2000/svg\" height=\"24px\"viewBox=\"0 0 24 24\"\n",
              "       width=\"24px\">\n",
              "    <path d=\"M0 0h24v24H0V0z\" fill=\"none\"/>\n",
              "    <path d=\"M18.56 5.44l.94 2.06.94-2.06 2.06-.94-2.06-.94-.94-2.06-.94 2.06-2.06.94zm-11 1L8.5 8.5l.94-2.06 2.06-.94-2.06-.94L8.5 2.5l-.94 2.06-2.06.94zm10 10l.94 2.06.94-2.06 2.06-.94-2.06-.94-.94-2.06-.94 2.06-2.06.94z\"/><path d=\"M17.41 7.96l-1.37-1.37c-.4-.4-.92-.59-1.43-.59-.52 0-1.04.2-1.43.59L10.3 9.45l-7.72 7.72c-.78.78-.78 2.05 0 2.83L4 21.41c.39.39.9.59 1.41.59.51 0 1.02-.2 1.41-.59l7.78-7.78 2.81-2.81c.8-.78.8-2.07 0-2.86zM5.41 20L4 18.59l7.72-7.72 1.47 1.35L5.41 20z\"/>\n",
              "  </svg>\n",
              "      </button>\n",
              "      \n",
              "  <style>\n",
              "    .colab-df-container {\n",
              "      display:flex;\n",
              "      flex-wrap:wrap;\n",
              "      gap: 12px;\n",
              "    }\n",
              "\n",
              "    .colab-df-convert {\n",
              "      background-color: #E8F0FE;\n",
              "      border: none;\n",
              "      border-radius: 50%;\n",
              "      cursor: pointer;\n",
              "      display: none;\n",
              "      fill: #1967D2;\n",
              "      height: 32px;\n",
              "      padding: 0 0 0 0;\n",
              "      width: 32px;\n",
              "    }\n",
              "\n",
              "    .colab-df-convert:hover {\n",
              "      background-color: #E2EBFA;\n",
              "      box-shadow: 0px 1px 2px rgba(60, 64, 67, 0.3), 0px 1px 3px 1px rgba(60, 64, 67, 0.15);\n",
              "      fill: #174EA6;\n",
              "    }\n",
              "\n",
              "    [theme=dark] .colab-df-convert {\n",
              "      background-color: #3B4455;\n",
              "      fill: #D2E3FC;\n",
              "    }\n",
              "\n",
              "    [theme=dark] .colab-df-convert:hover {\n",
              "      background-color: #434B5C;\n",
              "      box-shadow: 0px 1px 3px 1px rgba(0, 0, 0, 0.15);\n",
              "      filter: drop-shadow(0px 1px 2px rgba(0, 0, 0, 0.3));\n",
              "      fill: #FFFFFF;\n",
              "    }\n",
              "  </style>\n",
              "\n",
              "      <script>\n",
              "        const buttonEl =\n",
              "          document.querySelector('#df-a84fc444-7ef1-49fd-a5dd-48f4eb729d91 button.colab-df-convert');\n",
              "        buttonEl.style.display =\n",
              "          google.colab.kernel.accessAllowed ? 'block' : 'none';\n",
              "\n",
              "        async function convertToInteractive(key) {\n",
              "          const element = document.querySelector('#df-a84fc444-7ef1-49fd-a5dd-48f4eb729d91');\n",
              "          const dataTable =\n",
              "            await google.colab.kernel.invokeFunction('convertToInteractive',\n",
              "                                                     [key], {});\n",
              "          if (!dataTable) return;\n",
              "\n",
              "          const docLinkHtml = 'Like what you see? Visit the ' +\n",
              "            '<a target=\"_blank\" href=https://colab.research.google.com/notebooks/data_table.ipynb>data table notebook</a>'\n",
              "            + ' to learn more about interactive tables.';\n",
              "          element.innerHTML = '';\n",
              "          dataTable['output_type'] = 'display_data';\n",
              "          await google.colab.output.renderOutput(dataTable, element);\n",
              "          const docLink = document.createElement('div');\n",
              "          docLink.innerHTML = docLinkHtml;\n",
              "          element.appendChild(docLink);\n",
              "        }\n",
              "      </script>\n",
              "    </div>\n",
              "  </div>\n",
              "  "
            ]
          },
          "metadata": {},
          "execution_count": 109
        }
      ]
    },
    {
      "cell_type": "code",
      "source": [
        "pd.unique(sample['Class'])"
      ],
      "metadata": {
        "colab": {
          "base_uri": "https://localhost:8080/"
        },
        "id": "XPQ5e1mFUcYB",
        "outputId": "1dc6524d-b7b0-47f2-986d-0c85bf48a449"
      },
      "execution_count": 110,
      "outputs": [
        {
          "output_type": "execute_result",
          "data": {
            "text/plain": [
              "array([1, 2])"
            ]
          },
          "metadata": {},
          "execution_count": 110
        }
      ]
    },
    {
      "cell_type": "code",
      "source": [
        "data=sample.values"
      ],
      "metadata": {
        "id": "sbkOoodIUiGR"
      },
      "execution_count": 111,
      "outputs": []
    },
    {
      "cell_type": "code",
      "source": [
        "A = data[:,:-1]\n",
        "y = data[:,-1]"
      ],
      "metadata": {
        "id": "0u5CqiaNUdsn"
      },
      "execution_count": 112,
      "outputs": []
    },
    {
      "cell_type": "code",
      "source": [
        "display(A)\n",
        "display(y)"
      ],
      "metadata": {
        "colab": {
          "base_uri": "https://localhost:8080/",
          "height": 486
        },
        "id": "r46mhEz0UpoH",
        "outputId": "4772b0b2-c87a-4305-f541-42773f3da182"
      },
      "execution_count": 113,
      "outputs": [
        {
          "output_type": "display_data",
          "data": {
            "text/plain": [
              "array([[0.68, 0.49, 1.  , ..., 0.62, 0.55, 0.28],\n",
              "       [0.75, 0.84, 0.48, ..., 0.35, 0.52, 0.33],\n",
              "       [0.52, 0.44, 0.48, ..., 0.37, 0.36, 0.42],\n",
              "       ...,\n",
              "       [0.53, 0.38, 0.48, ..., 0.44, 0.26, 0.36],\n",
              "       [0.86, 0.39, 0.48, ..., 0.59, 0.89, 0.9 ],\n",
              "       [0.57, 0.59, 0.48, ..., 0.39, 0.47, 0.33]])"
            ]
          },
          "metadata": {}
        },
        {
          "output_type": "display_data",
          "data": {
            "text/plain": [
              "array([1., 1., 1., 2., 1., 1., 1., 1., 1., 2., 2., 1., 1., 2., 1., 2., 1.,\n",
              "       1., 1., 1., 1., 1., 1., 1., 1., 1., 1., 1., 1., 1., 1., 1., 1., 1.,\n",
              "       1., 2., 2., 1., 1., 1., 1., 1., 1., 1., 1., 1., 1., 1., 1., 1., 1.,\n",
              "       1., 1., 1., 1., 1., 1., 2., 1., 1., 1., 1., 1., 1., 1., 1., 1., 1.,\n",
              "       1., 1., 1., 1., 1., 1., 2., 1., 1., 1., 2., 1., 1., 1., 2., 1., 1.,\n",
              "       1., 1., 1., 1., 1., 2., 1., 1., 1., 1., 1., 2., 1., 1., 1., 1., 1.,\n",
              "       1., 1., 1., 1., 1., 1., 1., 2., 1., 1., 1., 1., 1., 1., 1., 1., 1.,\n",
              "       1., 1., 1., 1., 1., 2., 1., 1., 1., 1., 2., 1., 1., 1., 1., 2., 1.,\n",
              "       2., 1., 1., 1., 1., 1., 1., 1., 1., 1., 1., 2., 1., 1., 2., 1., 1.,\n",
              "       1., 1., 1., 1., 1., 1., 1., 1., 1., 1., 1., 1., 1., 1., 1., 1., 1.,\n",
              "       1., 1., 2., 2., 1., 1., 1., 1., 1., 1., 1., 1., 1., 1., 1., 1., 1.,\n",
              "       1., 1., 1., 1., 1., 1., 1., 1., 1., 1., 1., 1., 1., 1., 1., 1., 1.,\n",
              "       2., 1., 2., 1., 1., 1., 1., 1., 1., 1., 1., 1., 1., 1., 1., 1., 1.,\n",
              "       1., 1., 1., 1., 1., 1., 1., 1., 1., 1., 1., 1., 1., 2., 1., 1., 1.,\n",
              "       1., 1., 1., 1., 1., 2., 1., 2., 1., 1., 1., 1., 1., 1., 1., 1., 1.,\n",
              "       1., 1., 1., 1., 1., 1., 1., 1., 1., 1., 1., 2., 1., 1., 1., 1., 1.,\n",
              "       1., 1., 2., 1., 2., 1., 1., 1., 1., 1., 1., 1., 2., 1., 1., 1., 1.,\n",
              "       1., 1., 1., 1., 1., 2., 1., 1., 1., 1., 1., 1., 1., 1., 1., 1., 1.,\n",
              "       1., 1., 1., 1., 2., 1., 1., 1., 1., 1., 1., 1., 1., 1., 1., 2., 1.,\n",
              "       1., 1., 1., 1., 1., 1., 1., 1., 1., 1., 1., 2., 1.])"
            ]
          },
          "metadata": {}
        }
      ]
    },
    {
      "cell_type": "code",
      "execution_count": 114,
      "metadata": {
        "colab": {
          "base_uri": "https://localhost:8080/",
          "height": 364
        },
        "id": "OC5zOaiJT3Ez",
        "outputId": "fb7479ee-39c0-4a1f-96e6-076950b6a8a1"
      },
      "outputs": [
        {
          "output_type": "display_data",
          "data": {
            "text/plain": [
              "array([1., 1., 1., 1., 1., 1., 1., 2., 1., 1., 1., 1., 1., 1., 1., 1., 1.,\n",
              "       1., 1., 1., 1., 1., 1., 1., 1., 1., 1., 1., 1., 1., 1., 2., 1., 2.,\n",
              "       1., 1., 1., 1., 1., 1., 1., 1., 1., 1., 2., 1., 1., 1., 1., 1., 1.,\n",
              "       1., 1., 2., 1., 1., 1., 1., 1., 1., 1., 1., 2., 1., 1., 1., 1., 2.,\n",
              "       1., 1., 1., 1., 1., 1., 1., 1., 1., 1., 2., 1., 1., 1., 1., 1., 1.,\n",
              "       1., 1., 1., 1., 1., 1., 1., 1., 1., 1., 1., 1., 2., 1., 1., 1., 1.,\n",
              "       1., 2., 1., 1., 1., 1., 2., 1., 1., 1., 1., 2., 2., 1., 1., 1., 1.,\n",
              "       1., 1., 1., 1., 1., 1., 1., 1., 1., 1., 1., 1., 1., 2., 1., 1., 2.,\n",
              "       1., 1., 1., 1., 1., 1., 1., 1., 1., 1., 1., 1., 1., 1., 1., 1., 1.,\n",
              "       1., 1., 1., 1., 1., 1., 1., 1., 1., 1., 1., 2., 1., 1., 1., 1., 1.,\n",
              "       1., 1., 1., 1., 1., 1., 1., 1., 1., 1., 1., 1., 1., 1., 1., 1., 1.,\n",
              "       1., 1., 1., 1., 1., 1., 1., 2., 1., 1., 1., 1., 2., 1., 2., 1., 1.,\n",
              "       1., 1., 2., 1., 1., 1., 1., 1., 1., 1., 1., 1., 2., 1., 1., 1., 1.,\n",
              "       1., 1., 1., 1., 1., 1., 1., 1., 1., 1., 1., 1., 1., 1.])"
            ]
          },
          "metadata": {}
        },
        {
          "output_type": "display_data",
          "data": {
            "text/plain": [
              "array([1., 1., 1., 1., 1., 1., 1., 1., 1., 1., 1., 1., 2., 2., 1., 1., 1.,\n",
              "       1., 1., 1., 1., 1., 1., 1., 2., 1., 1., 1., 1., 1., 1., 2., 1., 2.,\n",
              "       1., 1., 1., 1., 2., 1., 1., 1., 1., 1., 1., 1., 1., 1., 1., 1., 1.,\n",
              "       1., 1., 1., 1., 1., 1., 1., 1., 1., 1., 2., 1., 1., 1., 1., 1., 2.,\n",
              "       1., 1., 1., 1., 1., 1., 1., 2., 2., 1., 1., 1., 1., 1., 1., 1., 1.,\n",
              "       1., 2., 1., 1., 1., 1., 1., 1., 2., 2., 1., 1., 2., 1., 1., 1.])"
            ]
          },
          "metadata": {}
        }
      ],
      "source": [
        "A_train,A_test=train_test_split(A,test_size=0.3,random_state=42)\n",
        "y_train,y_test=train_test_split(y,test_size=0.3,random_state=42)\n",
        "display(y_train)\n",
        "display(y_test)"
      ]
    },
    {
      "cell_type": "code",
      "execution_count": 115,
      "metadata": {
        "id": "Nokbi8NlMUsS"
      },
      "outputs": [],
      "source": [
        "def sigma(A):\n",
        "    N = A.shape[0]\n",
        "    sigma = []\n",
        "    for i in range(N):\n",
        "        for j in range(i+1, N):\n",
        "            sigma.append(np.square(np.linalg.norm(A[i,:]-A[j,:])))\n",
        "\n",
        "    return 0.1 * np.max(sigma)"
      ]
    },
    {
      "cell_type": "code",
      "execution_count": 116,
      "metadata": {
        "colab": {
          "base_uri": "https://localhost:8080/"
        },
        "id": "8PPzNFhLMUsT",
        "outputId": "492b02c3-9ed4-4694-d828-ca01f4890919"
      },
      "outputs": [
        {
          "output_type": "stream",
          "name": "stdout",
          "text": [
            "0.18772000000000003\n"
          ]
        }
      ],
      "source": [
        "sig=sigma(A)\n",
        "print(sig)"
      ]
    },
    {
      "cell_type": "code",
      "execution_count": 117,
      "metadata": {
        "id": "9F_6yKAsMUsU"
      },
      "outputs": [],
      "source": [
        "def K(FV1, FV2):\n",
        "    dist = np.linalg.norm(FV1-FV2)\n",
        "    return np.exp(-1*np.square(dist)/(2*sig))"
      ]
    },
    {
      "cell_type": "code",
      "execution_count": 118,
      "metadata": {
        "id": "2Gn7TrwlMUsU"
      },
      "outputs": [],
      "source": [
        "def give_KSS(S):\n",
        "    KSS = []\n",
        "    for i in S:\n",
        "        for j in S:\n",
        "            KSS.append( K(A[i,:], A[j,:]))\n",
        "\n",
        "    return np.array(KSS).reshape((len(S), len(S)))"
      ]
    },
    {
      "cell_type": "code",
      "execution_count": 119,
      "metadata": {
        "id": "d_2rXtSnMUsV"
      },
      "outputs": [],
      "source": [
        "def give_KSx(S, x):\n",
        "    KSx = []\n",
        "    for i in S:\n",
        "        kx = K(A[i,:], x)\n",
        "        KSx.append(kx)\n",
        "    return np.array(KSx).reshape((len(S), 1))"
      ]
    },
    {
      "cell_type": "code",
      "execution_count": 120,
      "metadata": {
        "id": "PuyX6cwqMUsW"
      },
      "outputs": [],
      "source": [
        "def give_beta(S, x):\n",
        "    KSx = give_KSx(S, x).reshape(len(S), 1)\n",
        "    KSS = give_KSS(S)\n",
        "    DSS = np.diag(np.diag(np.sqrt(KSS)))\n",
        "    beta = np.dot(np.dot(np.transpose(KSx), np.linalg.inv(KSS)), DSS)\n",
        "    return beta"
      ]
    },
    {
      "cell_type": "code",
      "execution_count": 121,
      "metadata": {
        "colab": {
          "base_uri": "https://localhost:8080/"
        },
        "id": "5BveU0LsMUsW",
        "outputId": "513c447c-cb5a-4599-9b19-1eefd445612b"
      },
      "outputs": [
        {
          "output_type": "stream",
          "name": "stdout",
          "text": [
            "0.575368278924526\n"
          ]
        },
        {
          "output_type": "stream",
          "name": "stderr",
          "text": [
            "/usr/local/lib/python3.7/dist-packages/ipykernel_launcher.py:52: RuntimeWarning: divide by zero encountered in long_scalars\n"
          ]
        },
        {
          "output_type": "stream",
          "name": "stdout",
          "text": [
            "0.2326906281516804\n",
            "0.19487395102920665\n",
            "0.2590741846916329\n",
            "0.24169810378037884\n",
            "0.2517741567211946\n",
            "0.2421920744479725\n",
            "0.24544937235911302\n",
            "0.2093805588563472\n",
            "0.28740267027482713\n",
            "0.1634788697495153\n",
            "0.16597503141509623\n",
            "0.22564881053579156\n",
            "0.19310440870313209\n",
            "0.28335312368014187\n",
            "0.24740490623241532\n",
            "0.2494488970234872\n",
            "0.2238333648086982\n",
            "0.2294449590669309\n",
            "0.1651773081566437\n",
            "0.19111311142719914\n",
            "0.23137093455402688\n",
            "0.22670072290387366\n",
            "0.18042255899122506\n",
            "0.222882661345559\n",
            "0.3454750931488635\n",
            "0.2212603139554373\n",
            "0.16517730815684611\n",
            "0.27107757199324367\n",
            "0.266712829173263\n",
            "0.21523975358024353\n",
            "0.15481631688445796\n",
            "0.2583914277367104\n",
            "0.18624753290645019\n",
            "0.19626050849719728\n",
            "0.16878141361123983\n",
            "0.16517730815638246\n",
            "0.22383336481009014\n",
            "0.2684289368823397\n",
            "0.24278553344220785\n",
            "0.20444126186845615\n",
            "0.25061821533506784\n",
            "0.2321713108177964\n",
            "0.21492347880276663\n",
            "0.1651773081563988\n",
            "0.2357645160242689\n",
            "0.273217210044473\n",
            "0.2162059983322918\n",
            "0.2867233342704484\n",
            "0.16284579482189884\n",
            "0.22783555037615066\n",
            "0.2312067496358624\n",
            "0.2630686298502316\n",
            "0.22944495906685966\n",
            "0.2236692212357005\n",
            "0.209076727772313\n",
            "0.16517730815697695\n",
            "0.22944495906788415\n",
            "0.19216027155465695\n",
            "0.23979373241420132\n",
            "0.22144883604594492\n",
            "0.18581923619761814\n",
            "0.22383336480949625\n",
            "0.16890326696078237\n",
            "0.23987988910022753\n",
            "0.19971013358812517\n",
            "0.18754257802897578\n",
            "0.2532123798807699\n",
            "0.21479043536104875\n",
            "0.11395062787572424\n",
            "0.25163730458911987\n",
            "0.26734500055354005\n",
            "0.22944495906628032\n",
            "0.2343231625949577\n",
            "0.23513383604495874\n",
            "0.22996079770634267\n",
            "0.2137288808315959\n",
            "0.16295509906157787\n",
            "0.223833364808411\n",
            "0.19588070334557967\n",
            "0.2095086105255446\n",
            "0.24238976629648357\n",
            "0.24701263348214908\n",
            "0.16217060508258924\n",
            "0.21631877218834003\n",
            "0.22944495906867768\n",
            "0.16225062205623203\n",
            "0.19550619442756442\n",
            "0.30877934928466017\n",
            "0.16925392426555866\n",
            "0.1761217356433533\n",
            "0.25954778095165215\n",
            "0.16442325579685987\n",
            "0.18147489920894483\n",
            "0.19935590502503267\n",
            "0.17635116365600104\n",
            "0.22944495906573376\n",
            "0.22944495906631845\n",
            "0.24587902458584648\n",
            "0.22944495906639822\n",
            "0.2001662952521763\n",
            "0.15110129178834208\n",
            "0.23107588953738417\n",
            "0.1906033821734546\n",
            "0.20936539985723102\n",
            "0.23559912284031\n",
            "0.2160158788421806\n",
            "0.2294449590672156\n",
            "0.22503436664586032\n",
            "0.22846475788494072\n",
            "0.21829124203894762\n",
            "0.2194289142307772\n",
            "0.22701319516369534\n",
            "0.15644696718374865\n",
            "0.26080799323642784\n",
            "0.24502831402580816\n",
            "0.22036325838370321\n",
            "0.2094363208752992\n",
            "0.2480843723373444\n",
            "0.23107588953657124\n",
            "0.19621576374988237\n",
            "0.2433267618430732\n",
            "0.2294449590663431\n",
            "0.23912108145114364\n",
            "0.1436196845048396\n",
            "0.22071145670509387\n",
            "0.21932881627051168\n",
            "0.18305892114983532\n",
            "0.23134196762667034\n",
            "0.24313225126452717\n",
            "0.183098784129709\n",
            "0.27108195555841924\n",
            "0.23942244848956531\n",
            "0.2254527608687457\n",
            "0.21454367200076388\n",
            "0.223833364809433\n",
            "0.2294449590670966\n",
            "0.17460261282905878\n",
            "0.16571361156044356\n",
            "0.26367477848953913\n",
            "0.23107588953710864\n",
            "0.23107588953714625\n",
            "0.22383336481014418\n",
            "0.1482129628254199\n",
            "0.21488453418882297\n",
            "0.1704560343632172\n",
            "0.2040793219933989\n",
            "0.2123016582996064\n",
            "0.2519273123746971\n",
            "0.2391966849925871\n",
            "0.22681161386059148\n",
            "0.22944495906766146\n",
            "0.2294449590662828\n",
            "0.2310758895379922\n",
            "0.22155503931551412\n",
            "0.22944495906641574\n",
            "0.2490640766804252\n",
            "0.16126562402973907\n",
            "0.19394487508828828\n",
            "0.22978106200965256\n",
            "0.24969577864837958\n",
            "0.1720072841405435\n",
            "0.1651773081562501\n",
            "0.24267207261820875\n",
            "0.22554995040847362\n",
            "0.25013977377030616\n",
            "0.2498560510299592\n",
            "0.2383640066186521\n",
            "0.3566093406686201\n",
            "0.25128130097879164\n",
            "0.225151655716274\n",
            "0.24048594955517172\n",
            "0.22089265912152473\n",
            "0.15155310484528495\n",
            "0.1827226691768894\n",
            "0.23045588419643515\n",
            "0.22120942717890257\n",
            "0.21994091404330018\n",
            "0.22383336480871427\n",
            "0.2567247334660703\n",
            "0.17705347152159856\n",
            "0.1746964896805963\n",
            "0.18531782627936103\n",
            "0.17947244828386094\n",
            "0.2061655057576537\n",
            "0.27446870324356487\n",
            "0.23954862371548138\n",
            "0.2656868100554704\n",
            "0.22912266015154034\n",
            "0.25003290736802686\n",
            "0.2162820931268496\n",
            "0.23228182015107926\n",
            "0.1631666814407012\n",
            "0.2149820561898613\n",
            "0.17592589435824263\n",
            "0.24050321691053558\n",
            "0.16517730815616852\n",
            "0.2238333648101368\n",
            "0.24614139411075572\n",
            "0.294815500182878\n",
            "0.170504839731067\n",
            "0.23685131211959362\n",
            "0.1723709287567441\n",
            "0.16000010856808736\n",
            "0.2822123819371185\n",
            "0.2470761174097843\n",
            "0.29593973444888144\n",
            "0.21738380883229694\n",
            "0.26437041486598223\n",
            "0.13856343755337164\n",
            "0.21974069953728853\n",
            "0.22058121978108008\n",
            "0.276360732402723\n",
            "0.3000256843921457\n",
            "[234, 137, 156, 48, 20, 120, 115, 31, 55, 107, 167, 150, 61, 178, 40, 157, 106, 18, 28, 39, 32, 171, 110, 94, 69, 93, 80, 37, 212, 151, 86, 169, 218, 158, 58, 114, 155, 198, 195, 63, 73, 19, 217, 168, 76, 197, 5, 133, 99, 216]\n"
          ]
        }
      ],
      "source": [
        "minor_index=np.where(y_train==1)[0].tolist()\n",
        "lambdamax=-np.inf\n",
        "best_iter=-1\n",
        "counter=0\n",
        "total_S=[]\n",
        "lam = []\n",
        "for i in minor_index:\n",
        "    current_S=[i]\n",
        "    ctrl=1\n",
        "    while (len(current_S)<N_m and ctrl==1):\n",
        "        current_inv =np.linalg.inv(give_KSS(current_S))\n",
        "        max_LF=-np.inf\n",
        "        max_LF_index=-1\n",
        "        remaining=list(set(range(A_train.shape[0]))-set(current_S))\n",
        "        #print(remaining)\n",
        "        for j in remaining:\n",
        "            KSx=give_KSx(current_S,A_train[j,:])\n",
        "            LF =abs(1-((KSx.T).dot(current_inv).dot(KSx)))\n",
        "            if LF> max_LF:\n",
        "                max_LF=LF\n",
        "                max_LF_index=j\n",
        "        if(max_LF<0.001):\n",
        "            ctrl=0\n",
        "        else:\n",
        "            current_S.append(max_LF_index)\n",
        "    total_S.append(current_S)\n",
        "    \n",
        "    S0=list(set(current_S)& (set(range(A_train.shape[0]))-set(minor_index)))\n",
        "    S1=list(set(current_S) & set(minor_index))\n",
        "    B0=np.zeros((len(S0),len(current_S) ))\n",
        "    B1=np.zeros((len(S1), len(current_S)))\n",
        "    rownum=0\n",
        "    for k in S0:\n",
        "        B0[rownum,:]=give_beta(current_S, A_train[k,:]).flatten()\n",
        "        rownum=rownum+1\n",
        "    rownum=0\n",
        "    for k in S1:\n",
        "        B1[rownum,:]=give_beta(current_S, A_train[k,:]).flatten()\n",
        "        rownum=rownum+1\n",
        "        \n",
        "    mean0=B0.mean(axis=0)\n",
        "    mean1=B1.mean(axis=0)\n",
        "    \n",
        "    var0=B0.var(axis=0)\n",
        "    var1=B1.var(axis=0)\n",
        "    \n",
        "    lam=(((mean0-mean1)**2)/(var0+var1))\n",
        "    \n",
        "\n",
        "    total_lam=np.sum(lam)/np.shape(lam)[0]\n",
        "    print(total_lam)\n",
        "    if(lambdamax<total_lam-1000*((1-(((y_train[current_S]==1).sum())/((y_train[current_S]==0).sum())))**2)):\n",
        "        lambdamax=total_lam\n",
        "        best_iter=counter\n",
        "    counter=counter+1\n",
        "\n",
        "\n",
        "\n",
        "\n",
        "A_train[total_S[best_iter],:]\n",
        "\n",
        "print(total_S[best_iter])\n",
        "        \n",
        "    \n",
        "    \n",
        "    "
      ]
    },
    {
      "cell_type": "code",
      "execution_count": 122,
      "metadata": {
        "id": "_HYlF84UMUsY"
      },
      "outputs": [],
      "source": [
        "model = svm.SVC(C=1000,kernel = \"rbf\", gamma =1/(2*sig))"
      ]
    },
    {
      "cell_type": "code",
      "execution_count": 123,
      "metadata": {
        "colab": {
          "base_uri": "https://localhost:8080/"
        },
        "id": "zY_2C7vEMUsZ",
        "outputId": "e78362ee-61ff-44ff-933d-efdb419e0bb5"
      },
      "outputs": [
        {
          "output_type": "execute_result",
          "data": {
            "text/plain": [
              "SVC(C=1000, gamma=2.663541444704879)"
            ]
          },
          "metadata": {},
          "execution_count": 123
        }
      ],
      "source": [
        "model.fit(A_train[total_S[best_iter],:], y_train[total_S[best_iter]])"
      ]
    },
    {
      "cell_type": "code",
      "execution_count": 124,
      "metadata": {
        "colab": {
          "base_uri": "https://localhost:8080/"
        },
        "id": "zw_7YLDsMUsa",
        "outputId": "482e7a96-3fb3-42a8-d474-53309b91b489"
      },
      "outputs": [
        {
          "output_type": "execute_result",
          "data": {
            "text/plain": [
              "0.8811881188118812"
            ]
          },
          "metadata": {},
          "execution_count": 124
        }
      ],
      "source": [
        "model.score(A_test, y_test)"
      ]
    },
    {
      "cell_type": "code",
      "execution_count": 125,
      "metadata": {
        "id": "JRr80fmMMUsa"
      },
      "outputs": [],
      "source": [
        "# Enter minor major labels\n",
        "minor_cls = 2\n",
        "major_cls = 1\n",
        "cls_types= np.array([major_cls, minor_cls])"
      ]
    },
    {
      "cell_type": "code",
      "execution_count": 126,
      "metadata": {
        "colab": {
          "base_uri": "https://localhost:8080/"
        },
        "id": "icgSaoWiMUsb",
        "outputId": "23b5f240-aa90-4259-8189-36f494500042"
      },
      "outputs": [
        {
          "output_type": "execute_result",
          "data": {
            "text/plain": [
              "array([1, 2])"
            ]
          },
          "metadata": {},
          "execution_count": 126
        }
      ],
      "source": [
        "cls_types"
      ]
    },
    {
      "cell_type": "code",
      "execution_count": 127,
      "metadata": {
        "colab": {
          "base_uri": "https://localhost:8080/",
          "height": 489
        },
        "id": "R4g7XSeaMUsb",
        "outputId": "98a67800-8110-45cb-c1cd-8027903c0985"
      },
      "outputs": [
        {
          "output_type": "execute_result",
          "data": {
            "text/plain": [
              "Text(0.5, 89.87999999999997, 'Predicted')"
            ]
          },
          "metadata": {},
          "execution_count": 127
        },
        {
          "output_type": "display_data",
          "data": {
            "text/plain": [
              "<Figure size 576x576 with 2 Axes>"
            ],
            "image/png": "[encoded data removed]"
          },
          "metadata": {
            "needs_background": "light"
          }
        }
      ],
      "source": [
        "Y_pred = model.predict(A_test)\n",
        "Y_true = y_test\n",
        "cm = confusion_matrix(Y_true, Y_pred)\n",
        "plt.figure(figsize=(8, 8))\n",
        "ax = sns.heatmap(cm, cmap=plt.cm.Greens, annot=True, square=True, xticklabels=cls_types, yticklabels=cls_types)\n",
        "ax.set_ylabel('Actual')\n",
        "ax.set_xlabel('Predicted')"
      ]
    },
    {
      "cell_type": "code",
      "execution_count": 128,
      "metadata": {
        "id": "3Qva_LQgMUsc"
      },
      "outputs": [],
      "source": [
        "TN = cm[0][0]\n",
        "TP = cm[1][1]\n",
        "FN = cm[1][0]\n",
        "FP = cm[0][1]\n",
        "\n",
        "TPR = TP / (TP+FN)\n",
        "TNR = TN / (TN+FP)\n",
        "precision = TP / (TP+FP)\n",
        "recall=TP/(TP+FN)                  "
      ]
    },
    {
      "cell_type": "code",
      "execution_count": 129,
      "metadata": {
        "colab": {
          "base_uri": "https://localhost:8080/"
        },
        "id": "PQph7TI6MUsd",
        "outputId": "c648911f-8184-4b1b-d048-8d5fbabeaf6e"
      },
      "outputs": [
        {
          "output_type": "stream",
          "name": "stdout",
          "text": [
            "0.3779644730092272\n",
            "0.25\n",
            "1.0\n",
            "0.14285714285714285\n"
          ]
        }
      ],
      "source": [
        "G_mean = np.sqrt(TPR*TNR)\n",
        "F_measure = (2*precision*TPR)/(precision+TPR)\n",
        "\n",
        "print(G_mean)\n",
        "print(F_measure)\n",
        "print(precision)\n",
        "print(recall)"
      ]
    },
    {
      "cell_type": "code",
      "execution_count": 130,
      "metadata": {
        "colab": {
          "base_uri": "https://localhost:8080/"
        },
        "id": "bJTISWkfT3Fh",
        "outputId": "2429f413-e381-499d-dd4b-8703d4e301be"
      },
      "outputs": [
        {
          "output_type": "stream",
          "name": "stdout",
          "text": [
            "[[0.38 0.3  0.48 0.5  0.43 0.29 0.39]\n",
            " [0.29 0.3  0.48 0.5  0.45 0.03 0.17]\n",
            " [0.75 0.55 1.   1.   0.4  0.47 0.3 ]\n",
            " [0.67 0.55 1.   0.5  0.66 0.58 0.16]\n",
            " [0.6  0.76 1.   0.5  0.77 0.59 0.52]\n",
            " [0.68 0.49 1.   0.5  0.62 0.55 0.28]\n",
            " [0.06 0.61 0.48 0.5  0.49 0.92 0.37]\n",
            " [0.49 0.61 1.   0.5  0.56 0.71 0.74]\n",
            " [0.66 0.49 1.   0.5  0.54 0.56 0.36]\n",
            " [0.7  0.39 1.   0.5  0.51 0.82 0.84]\n",
            " [0.6  0.5  1.   0.5  0.54 0.77 0.8 ]\n",
            " [0.61 0.47 0.48 0.5  0.   0.8  0.32]\n",
            " [0.1  0.49 0.48 0.5  0.41 0.67 0.21]\n",
            " [0.77 0.57 0.48 0.5  0.88 0.53 0.2 ]\n",
            " [0.   0.51 0.48 0.5  0.35 0.67 0.44]\n",
            " [0.75 0.76 0.48 0.5  0.83 0.57 0.3 ]\n",
            " [0.69 0.59 0.48 0.5  0.77 0.39 0.21]\n",
            " [0.46 0.59 0.48 0.5  0.36 0.76 0.23]\n",
            " [0.63 0.49 0.48 0.5  0.79 0.45 0.28]\n",
            " [0.12 0.67 0.48 0.5  0.74 0.58 0.63]\n",
            " [0.74 0.78 0.48 0.5  0.75 0.54 0.15]\n",
            " [0.4  0.45 0.48 0.5  0.38 0.22 0.  ]\n",
            " [0.5  0.66 0.48 0.5  0.31 0.92 0.92]\n",
            " [0.3  0.51 0.48 0.5  0.42 0.61 0.34]\n",
            " [0.56 0.68 0.48 0.5  0.77 0.36 0.45]\n",
            " [0.63 0.57 0.48 0.5  0.49 0.7  0.2 ]\n",
            " [0.72 0.86 0.48 0.5  0.17 0.55 0.21]\n",
            " [0.74 0.56 0.48 0.5  0.47 0.68 0.3 ]\n",
            " [0.65 0.51 0.48 0.5  0.66 0.54 0.33]\n",
            " [0.34 0.51 0.48 0.5  0.67 0.9  0.9 ]\n",
            " [0.11 0.5  0.48 0.5  0.58 0.72 0.68]\n",
            " [0.31 0.36 0.48 0.5  0.58 0.94 0.94]\n",
            " [0.61 0.66 0.48 0.5  0.46 0.87 0.88]\n",
            " [0.89 0.55 0.48 0.5  0.51 0.72 0.76]\n",
            " [0.3  0.16 0.48 0.5  0.56 0.11 0.23]\n",
            " [0.88 0.42 0.48 0.5  0.52 0.73 0.75]\n",
            " [0.67 0.84 0.48 0.5  0.74 0.54 0.37]\n",
            " [0.46 0.61 0.48 0.5  0.48 0.86 0.87]\n",
            " [0.74 0.47 0.48 0.5  0.5  0.57 0.42]\n",
            " [0.71 0.52 0.48 0.5  0.64 1.   0.99]\n",
            " [0.74 0.49 0.48 0.5  0.42 0.54 0.36]\n",
            " [0.   0.38 0.48 0.5  0.42 0.48 0.55]\n",
            " [0.32 0.33 0.48 0.5  0.6  0.06 0.2 ]\n",
            " [0.04 0.31 0.48 0.5  0.41 0.29 0.39]\n",
            " [0.47 0.47 0.48 0.5  0.22 0.16 0.26]\n",
            " [0.44 0.42 0.48 0.5  0.42 0.25 0.2 ]\n",
            " [0.34 0.49 0.48 0.5  0.58 0.85 0.8 ]\n",
            " [0.84 0.44 0.48 0.5  0.48 0.71 0.74]\n",
            " [0.63 0.83 0.48 0.5  0.4  0.39 0.19]\n",
            " [0.81 0.44 0.48 0.5  0.42 0.67 0.68]]\n"
          ]
        }
      ],
      "source": [
        "print(A_train[total_S[best_iter],:])"
      ]
    },
    {
      "cell_type": "code",
      "execution_count": 131,
      "metadata": {
        "colab": {
          "base_uri": "https://localhost:8080/"
        },
        "id": "CH3X5EChT3Fj",
        "outputId": "e1c359fd-1464-438f-a764-465944c94a18"
      },
      "outputs": [
        {
          "output_type": "stream",
          "name": "stdout",
          "text": [
            "[1. 1. 1. 1. 1. 1. 1. 2. 1. 1. 1. 1. 1. 1. 1. 1. 1. 1. 1. 1. 1. 1. 1. 1.\n",
            " 1. 1. 1. 1. 1. 1. 1. 1. 1. 1. 1. 2. 1. 1. 1. 1. 1. 1. 1. 1. 1. 1. 1. 1.\n",
            " 1. 2.]\n"
          ]
        }
      ],
      "source": [
        "print(y_train[total_S[best_iter]])"
      ]
    },
    {
      "cell_type": "code",
      "execution_count": 132,
      "metadata": {
        "colab": {
          "base_uri": "https://localhost:8080/",
          "height": 345
        },
        "id": "1IRh0r0NF_mU",
        "outputId": "537081ef-8bf5-40f6-c949-25a9fcf26156",
        "scrolled": false
      },
      "outputs": [
        {
          "output_type": "error",
          "ename": "ValueError",
          "evalue": "ignored",
          "traceback": [
            "\u001b[0;31m---------------------------------------------------------------------------\u001b[0m",
            "\u001b[0;31mValueError\u001b[0m                                Traceback (most recent call last)",
            "\u001b[0;32m<ipython-input-132-1408fa9ec156>\u001b[0m in \u001b[0;36m<module>\u001b[0;34m()\u001b[0m\n\u001b[1;32m      4\u001b[0m \u001b[0;31m#plt.scatter(x1[y1==0], x2[y1==0], s=25, c='r')\u001b[0m\u001b[0;34m\u001b[0m\u001b[0;34m\u001b[0m\u001b[0;34m\u001b[0m\u001b[0m\n\u001b[1;32m      5\u001b[0m \u001b[0;31m#plt.scatter(x1[y1==1], x2[y1==1], s=25, c='b')\u001b[0m\u001b[0;34m\u001b[0m\u001b[0;34m\u001b[0m\u001b[0;34m\u001b[0m\u001b[0m\n\u001b[0;32m----> 6\u001b[0;31m \u001b[0mplot_decision_regions\u001b[0m\u001b[0;34m(\u001b[0m\u001b[0mA_train\u001b[0m\u001b[0;34m[\u001b[0m\u001b[0mtotal_S\u001b[0m\u001b[0;34m[\u001b[0m\u001b[0mbest_iter\u001b[0m\u001b[0;34m]\u001b[0m\u001b[0;34m,\u001b[0m\u001b[0;34m:\u001b[0m\u001b[0;34m]\u001b[0m\u001b[0;34m,\u001b[0m \u001b[0my_train\u001b[0m\u001b[0;34m[\u001b[0m\u001b[0mtotal_S\u001b[0m\u001b[0;34m[\u001b[0m\u001b[0mbest_iter\u001b[0m\u001b[0;34m]\u001b[0m\u001b[0;34m]\u001b[0m\u001b[0;34m,\u001b[0m \u001b[0mclf\u001b[0m\u001b[0;34m=\u001b[0m\u001b[0mmodel\u001b[0m\u001b[0;34m)\u001b[0m\u001b[0;34m\u001b[0m\u001b[0;34m\u001b[0m\u001b[0m\n\u001b[0m",
            "\u001b[0;32m/usr/local/lib/python3.7/dist-packages/mlxtend/plotting/decision_regions.py\u001b[0m in \u001b[0;36mplot_decision_regions\u001b[0;34m(X, y, clf, feature_index, filler_feature_values, filler_feature_ranges, ax, X_highlight, res, legend, hide_spines, markers, colors, scatter_kwargs, contourf_kwargs, scatter_highlight_kwargs)\u001b[0m\n\u001b[1;32m    127\u001b[0m     \"\"\"\n\u001b[1;32m    128\u001b[0m \u001b[0;34m\u001b[0m\u001b[0m\n\u001b[0;32m--> 129\u001b[0;31m     \u001b[0mcheck_Xy\u001b[0m\u001b[0;34m(\u001b[0m\u001b[0mX\u001b[0m\u001b[0;34m,\u001b[0m \u001b[0my\u001b[0m\u001b[0;34m,\u001b[0m \u001b[0my_int\u001b[0m\u001b[0;34m=\u001b[0m\u001b[0;32mTrue\u001b[0m\u001b[0;34m)\u001b[0m  \u001b[0;31m# Validate X and y arrays\u001b[0m\u001b[0;34m\u001b[0m\u001b[0;34m\u001b[0m\u001b[0m\n\u001b[0m\u001b[1;32m    130\u001b[0m     \u001b[0mdim\u001b[0m \u001b[0;34m=\u001b[0m \u001b[0mX\u001b[0m\u001b[0;34m.\u001b[0m\u001b[0mshape\u001b[0m\u001b[0;34m[\u001b[0m\u001b[0;36m1\u001b[0m\u001b[0;34m]\u001b[0m\u001b[0;34m\u001b[0m\u001b[0;34m\u001b[0m\u001b[0m\n\u001b[1;32m    131\u001b[0m \u001b[0;34m\u001b[0m\u001b[0m\n",
            "\u001b[0;32m/usr/local/lib/python3.7/dist-packages/mlxtend/utils/checking.py\u001b[0m in \u001b[0;36mcheck_Xy\u001b[0;34m(X, y, y_int)\u001b[0m\n\u001b[1;32m     21\u001b[0m         raise ValueError('y must be an integer array. Found %s. '\n\u001b[1;32m     22\u001b[0m                          \u001b[0;34m'Try passing the array as y.astype(np.integer)'\u001b[0m\u001b[0;34m\u001b[0m\u001b[0;34m\u001b[0m\u001b[0m\n\u001b[0;32m---> 23\u001b[0;31m                          % y.dtype)\n\u001b[0m\u001b[1;32m     24\u001b[0m \u001b[0;34m\u001b[0m\u001b[0m\n\u001b[1;32m     25\u001b[0m     \u001b[0;32mif\u001b[0m \u001b[0;32mnot\u001b[0m \u001b[0;34m(\u001b[0m\u001b[0;34m'float'\u001b[0m \u001b[0;32min\u001b[0m \u001b[0mstr\u001b[0m\u001b[0;34m(\u001b[0m\u001b[0mX\u001b[0m\u001b[0;34m.\u001b[0m\u001b[0mdtype\u001b[0m\u001b[0;34m)\u001b[0m \u001b[0;32mor\u001b[0m \u001b[0;34m'int'\u001b[0m \u001b[0;32min\u001b[0m \u001b[0mstr\u001b[0m\u001b[0;34m(\u001b[0m\u001b[0mX\u001b[0m\u001b[0;34m.\u001b[0m\u001b[0mdtype\u001b[0m\u001b[0;34m)\u001b[0m\u001b[0;34m)\u001b[0m\u001b[0;34m:\u001b[0m\u001b[0;34m\u001b[0m\u001b[0;34m\u001b[0m\u001b[0m\n",
            "\u001b[0;31mValueError\u001b[0m: y must be an integer array. Found float64. Try passing the array as y.astype(np.integer)"
          ]
        }
      ],
      "source": [
        "x1 = A_train[:, 0]\n",
        "x2 = A_train[:, 1]\n",
        "y1 = y_train.astype(int)\n",
        "#plt.scatter(x1[y1==0], x2[y1==0], s=25, c='r')\n",
        "#plt.scatter(x1[y1==1], x2[y1==1], s=25, c='b')\n",
        "plot_decision_regions(A_train[total_S[best_iter],:], y_train[total_S[best_iter]], clf=model)"
      ]
    },
    {
      "cell_type": "code",
      "execution_count": null,
      "metadata": {
        "id": "eYWLfXGoT3Fm"
      },
      "outputs": [],
      "source": [
        "x3 = A_test[:, 0]\n",
        "x4 = A_test[:, 1]\n",
        "y2 = y_test.astype(int)\n",
        "plt.scatter(x3[y2==0], x4[y2==0], s=25, c='green')\n",
        "plt.scatter(x3[y2==1], x4[y2==1], s=25, c='orange')\n",
        "plot_decision_regions(A_test, y_test, clf=model)"
      ]
    },
    {
      "cell_type": "code",
      "execution_count": null,
      "metadata": {
        "id": "DibRm47cT3Fo"
      },
      "outputs": [],
      "source": [
        "from sklearn.model_selection import cross_val_score\n",
        "x=A_train[total_S[best_iter]]\n",
        "y=y_train[total_S[best_iter]]\n",
        "model = svm.SVC(C=1000.0,kernel = \"rbf\", gamma =1/(2*sig))\n",
        "cv_met=cross_val_score(model,x,y,cv=5,scoring=None)\n",
        "print(cross_val_score(model,x,y,cv=5,scoring=None))"
      ]
    },
    {
      "cell_type": "code",
      "execution_count": null,
      "metadata": {
        "id": "9NwM6JGJT3Fp"
      },
      "outputs": [],
      "source": [
        "from sklearn import metrics\n",
        "cv_met=cross_val_score(model,x,y,cv=5,scoring='f1_macro')\n"
      ]
    },
    {
      "cell_type": "code",
      "execution_count": null,
      "metadata": {
        "id": "XAJobMrJT3Fq"
      },
      "outputs": [],
      "source": [
        "print(f\"The cross-validation f1 is: {np.mean(cv_met)*100:.2f}%\")"
      ]
    },
    {
      "cell_type": "code",
      "execution_count": null,
      "metadata": {
        "id": "LmZuqSUDT3Fr"
      },
      "outputs": [],
      "source": [
        ""
      ]
    },
    {
      "cell_type": "code",
      "execution_count": null,
      "metadata": {
        "id": "RrMZ-gU-T3Fs"
      },
      "outputs": [],
      "source": [
        ""
      ]
    }
  ],
  "metadata": {
    "colab": {
      "name": "code_fvs (2).ipynb",
      "provenance": [],
      "collapsed_sections": [],
      "include_colab_link": true
    },
    "kernelspec": {
      "display_name": "Python 3",
      "language": "python",
      "name": "python3"
    },
    "language_info": {
      "codemirror_mode": {
        "name": "ipython",
        "version": 3
      },
      "file_extension": ".py",
      "mimetype": "text/x-python",
      "name": "python",
      "nbconvert_exporter": "python",
      "pygments_lexer": "ipython3",
      "version": "3.8.5"
    },
    "gpuClass": "standard",
    "accelerator": "GPU"
  },
  "nbformat": 4,
  "nbformat_minor": 0
}