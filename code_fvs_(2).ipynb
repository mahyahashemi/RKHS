{
  "cells": [
    {
      "cell_type": "markdown",
      "metadata": {
        "id": "view-in-github",
        "colab_type": "text"
      },
      "source": [
        "<a href=\"https://colab.research.google.com/github/mahyahashemi/RKHS_Project/blob/main/code_fvs_(2).ipynb\" target=\"_parent\"><img src=\"https://colab.research.google.com/assets/colab-badge.svg\" alt=\"Open In Colab\"/></a>"
      ]
    },
    {
      "cell_type": "code",
      "execution_count": 1,
      "metadata": {
        "id": "Ry-tH86rMUsL"
      },
      "outputs": [],
      "source": [
        "import pandas as pd\n",
        "import numpy as np\n",
        "import matplotlib.pyplot as plt\n",
        "import os\n",
        "from sklearn.metrics import confusion_matrix\n",
        "from sklearn import datasets, svm\n",
        "import seaborn as sns\n",
        "from sklearn.model_selection import train_test_split\n",
        "from mlxtend.plotting import plot_decision_regions"
      ]
    },
    {
      "cell_type": "code",
      "execution_count": 2,
      "metadata": {
        "id": "pGRHwj2QMUsP"
      },
      "outputs": [],
      "source": [
        "N_m=50"
      ]
    },
    {
      "cell_type": "code",
      "source": [
        "url = 'https://raw.githubusercontent.com/mahyahashemi/RKHS_Project/main/datasets/ecoli3.csv'\n",
        "sample = pd.read_csv(url, on_bad_lines='skip')"
      ],
      "metadata": {
        "id": "Il1mvNaFUGmM"
      },
      "execution_count": 3,
      "outputs": []
    },
    {
      "cell_type": "code",
      "source": [
        "pip install --upgrade category_encoders"
      ],
      "metadata": {
        "colab": {
          "base_uri": "https://localhost:8080/"
        },
        "id": "gdn24xxiUQVm",
        "outputId": "d93d6567-3106-4076-8cb6-867a543b1c7b"
      },
      "execution_count": 4,
      "outputs": [
        {
          "output_type": "stream",
          "name": "stdout",
          "text": [
            "Looking in indexes: https://pypi.org/simple, https://us-python.pkg.dev/colab-wheels/public/simple/\n",
            "Collecting category_encoders\n",
            "  Downloading category_encoders-2.5.0-py2.py3-none-any.whl (69 kB)\n",
            "\u001b[K     |████████████████████████████████| 69 kB 4.2 MB/s \n",
            "\u001b[?25hRequirement already satisfied: scikit-learn>=0.20.0 in /usr/local/lib/python3.7/dist-packages (from category_encoders) (1.0.2)\n",
            "Requirement already satisfied: scipy>=1.0.0 in /usr/local/lib/python3.7/dist-packages (from category_encoders) (1.7.3)\n",
            "Requirement already satisfied: statsmodels>=0.9.0 in /usr/local/lib/python3.7/dist-packages (from category_encoders) (0.10.2)\n",
            "Requirement already satisfied: pandas>=1.0.5 in /usr/local/lib/python3.7/dist-packages (from category_encoders) (1.3.5)\n",
            "Requirement already satisfied: patsy>=0.5.1 in /usr/local/lib/python3.7/dist-packages (from category_encoders) (0.5.2)\n",
            "Requirement already satisfied: numpy>=1.14.0 in /usr/local/lib/python3.7/dist-packages (from category_encoders) (1.21.6)\n",
            "Requirement already satisfied: pytz>=2017.3 in /usr/local/lib/python3.7/dist-packages (from pandas>=1.0.5->category_encoders) (2022.1)\n",
            "Requirement already satisfied: python-dateutil>=2.7.3 in /usr/local/lib/python3.7/dist-packages (from pandas>=1.0.5->category_encoders) (2.8.2)\n",
            "Requirement already satisfied: six in /usr/local/lib/python3.7/dist-packages (from patsy>=0.5.1->category_encoders) (1.15.0)\n",
            "Requirement already satisfied: joblib>=0.11 in /usr/local/lib/python3.7/dist-packages (from scikit-learn>=0.20.0->category_encoders) (1.1.0)\n",
            "Requirement already satisfied: threadpoolctl>=2.0.0 in /usr/local/lib/python3.7/dist-packages (from scikit-learn>=0.20.0->category_encoders) (3.1.0)\n",
            "Installing collected packages: category-encoders\n",
            "Successfully installed category-encoders-2.5.0\n"
          ]
        }
      ]
    },
    {
      "cell_type": "code",
      "source": [
        "import category_encoders as ce\n",
        "encoder = ce.OrdinalEncoder(cols=['Class'])\n",
        "encoder"
      ],
      "metadata": {
        "colab": {
          "base_uri": "https://localhost:8080/"
        },
        "id": "H2jOOl6EUV0A",
        "outputId": "cfa3dd15-847b-4c63-820a-cd2e3fd6835e"
      },
      "execution_count": 5,
      "outputs": [
        {
          "output_type": "stream",
          "name": "stderr",
          "text": [
            "/usr/local/lib/python3.7/dist-packages/statsmodels/tools/_testing.py:19: FutureWarning: pandas.util.testing is deprecated. Use the functions in the public API at pandas.testing instead.\n",
            "  import pandas.util.testing as tm\n"
          ]
        },
        {
          "output_type": "execute_result",
          "data": {
            "text/plain": [
              "OrdinalEncoder(cols=['Class'])"
            ]
          },
          "metadata": {},
          "execution_count": 5
        }
      ]
    },
    {
      "cell_type": "code",
      "source": [
        "sample=encoder.fit_transform(sample)"
      ],
      "metadata": {
        "id": "4tgCF06nUXsX"
      },
      "execution_count": 6,
      "outputs": []
    },
    {
      "cell_type": "code",
      "source": [
        "sample=sample.fillna(0)\n",
        "sample"
      ],
      "metadata": {
        "colab": {
          "base_uri": "https://localhost:8080/",
          "height": 424
        },
        "id": "h6hYIkcMq9L4",
        "outputId": "fdb6e58c-d91f-479f-c1eb-f1521bd96994"
      },
      "execution_count": 7,
      "outputs": [
        {
          "output_type": "execute_result",
          "data": {
            "text/plain": [
              "      Mcg   Gvh   Lip  Chg   Aac  Alm1  Alm2  Class\n",
              "0    0.68  0.49  1.00  0.5  0.62  0.55  0.28      1\n",
              "1    0.75  0.84  0.48  0.5  0.35  0.52  0.33      1\n",
              "2    0.52  0.44  0.48  0.5  0.37  0.36  0.42      1\n",
              "3    0.87  0.49  0.48  0.5  0.61  0.76  0.79      2\n",
              "4    0.41  0.51  0.48  0.5  0.58  0.20  0.31      1\n",
              "..    ...   ...   ...  ...   ...   ...   ...    ...\n",
              "331  0.64  0.81  0.48  0.5  0.37  0.39  0.44      1\n",
              "332  0.71  0.71  0.48  0.5  0.68  0.43  0.36      1\n",
              "333  0.53  0.38  0.48  0.5  0.44  0.26  0.36      1\n",
              "334  0.86  0.39  0.48  0.5  0.59  0.89  0.90      2\n",
              "335  0.57  0.59  0.48  0.5  0.39  0.47  0.33      1\n",
              "\n",
              "[336 rows x 8 columns]"
            ],
            "text/html": [
              "\n",
              "  <div id=\"df-7d76000d-d29c-44f8-b635-860a4216ec22\">\n",
              "    <div class=\"colab-df-container\">\n",
              "      <div>\n",
              "<style scoped>\n",
              "    .dataframe tbody tr th:only-of-type {\n",
              "        vertical-align: middle;\n",
              "    }\n",
              "\n",
              "    .dataframe tbody tr th {\n",
              "        vertical-align: top;\n",
              "    }\n",
              "\n",
              "    .dataframe thead th {\n",
              "        text-align: right;\n",
              "    }\n",
              "</style>\n",
              "<table border=\"1\" class=\"dataframe\">\n",
              "  <thead>\n",
              "    <tr style=\"text-align: right;\">\n",
              "      <th></th>\n",
              "      <th>Mcg</th>\n",
              "      <th>Gvh</th>\n",
              "      <th>Lip</th>\n",
              "      <th>Chg</th>\n",
              "      <th>Aac</th>\n",
              "      <th>Alm1</th>\n",
              "      <th>Alm2</th>\n",
              "      <th>Class</th>\n",
              "    </tr>\n",
              "  </thead>\n",
              "  <tbody>\n",
              "    <tr>\n",
              "      <th>0</th>\n",
              "      <td>0.68</td>\n",
              "      <td>0.49</td>\n",
              "      <td>1.00</td>\n",
              "      <td>0.5</td>\n",
              "      <td>0.62</td>\n",
              "      <td>0.55</td>\n",
              "      <td>0.28</td>\n",
              "      <td>1</td>\n",
              "    </tr>\n",
              "    <tr>\n",
              "      <th>1</th>\n",
              "      <td>0.75</td>\n",
              "      <td>0.84</td>\n",
              "      <td>0.48</td>\n",
              "      <td>0.5</td>\n",
              "      <td>0.35</td>\n",
              "      <td>0.52</td>\n",
              "      <td>0.33</td>\n",
              "      <td>1</td>\n",
              "    </tr>\n",
              "    <tr>\n",
              "      <th>2</th>\n",
              "      <td>0.52</td>\n",
              "      <td>0.44</td>\n",
              "      <td>0.48</td>\n",
              "      <td>0.5</td>\n",
              "      <td>0.37</td>\n",
              "      <td>0.36</td>\n",
              "      <td>0.42</td>\n",
              "      <td>1</td>\n",
              "    </tr>\n",
              "    <tr>\n",
              "      <th>3</th>\n",
              "      <td>0.87</td>\n",
              "      <td>0.49</td>\n",
              "      <td>0.48</td>\n",
              "      <td>0.5</td>\n",
              "      <td>0.61</td>\n",
              "      <td>0.76</td>\n",
              "      <td>0.79</td>\n",
              "      <td>2</td>\n",
              "    </tr>\n",
              "    <tr>\n",
              "      <th>4</th>\n",
              "      <td>0.41</td>\n",
              "      <td>0.51</td>\n",
              "      <td>0.48</td>\n",
              "      <td>0.5</td>\n",
              "      <td>0.58</td>\n",
              "      <td>0.20</td>\n",
              "      <td>0.31</td>\n",
              "      <td>1</td>\n",
              "    </tr>\n",
              "    <tr>\n",
              "      <th>...</th>\n",
              "      <td>...</td>\n",
              "      <td>...</td>\n",
              "      <td>...</td>\n",
              "      <td>...</td>\n",
              "      <td>...</td>\n",
              "      <td>...</td>\n",
              "      <td>...</td>\n",
              "      <td>...</td>\n",
              "    </tr>\n",
              "    <tr>\n",
              "      <th>331</th>\n",
              "      <td>0.64</td>\n",
              "      <td>0.81</td>\n",
              "      <td>0.48</td>\n",
              "      <td>0.5</td>\n",
              "      <td>0.37</td>\n",
              "      <td>0.39</td>\n",
              "      <td>0.44</td>\n",
              "      <td>1</td>\n",
              "    </tr>\n",
              "    <tr>\n",
              "      <th>332</th>\n",
              "      <td>0.71</td>\n",
              "      <td>0.71</td>\n",
              "      <td>0.48</td>\n",
              "      <td>0.5</td>\n",
              "      <td>0.68</td>\n",
              "      <td>0.43</td>\n",
              "      <td>0.36</td>\n",
              "      <td>1</td>\n",
              "    </tr>\n",
              "    <tr>\n",
              "      <th>333</th>\n",
              "      <td>0.53</td>\n",
              "      <td>0.38</td>\n",
              "      <td>0.48</td>\n",
              "      <td>0.5</td>\n",
              "      <td>0.44</td>\n",
              "      <td>0.26</td>\n",
              "      <td>0.36</td>\n",
              "      <td>1</td>\n",
              "    </tr>\n",
              "    <tr>\n",
              "      <th>334</th>\n",
              "      <td>0.86</td>\n",
              "      <td>0.39</td>\n",
              "      <td>0.48</td>\n",
              "      <td>0.5</td>\n",
              "      <td>0.59</td>\n",
              "      <td>0.89</td>\n",
              "      <td>0.90</td>\n",
              "      <td>2</td>\n",
              "    </tr>\n",
              "    <tr>\n",
              "      <th>335</th>\n",
              "      <td>0.57</td>\n",
              "      <td>0.59</td>\n",
              "      <td>0.48</td>\n",
              "      <td>0.5</td>\n",
              "      <td>0.39</td>\n",
              "      <td>0.47</td>\n",
              "      <td>0.33</td>\n",
              "      <td>1</td>\n",
              "    </tr>\n",
              "  </tbody>\n",
              "</table>\n",
              "<p>336 rows × 8 columns</p>\n",
              "</div>\n",
              "      <button class=\"colab-df-convert\" onclick=\"convertToInteractive('df-7d76000d-d29c-44f8-b635-860a4216ec22')\"\n",
              "              title=\"Convert this dataframe to an interactive table.\"\n",
              "              style=\"display:none;\">\n",
              "        \n",
              "  <svg xmlns=\"http://www.w3.org/2000/svg\" height=\"24px\"viewBox=\"0 0 24 24\"\n",
              "       width=\"24px\">\n",
              "    <path d=\"M0 0h24v24H0V0z\" fill=\"none\"/>\n",
              "    <path d=\"M18.56 5.44l.94 2.06.94-2.06 2.06-.94-2.06-.94-.94-2.06-.94 2.06-2.06.94zm-11 1L8.5 8.5l.94-2.06 2.06-.94-2.06-.94L8.5 2.5l-.94 2.06-2.06.94zm10 10l.94 2.06.94-2.06 2.06-.94-2.06-.94-.94-2.06-.94 2.06-2.06.94z\"/><path d=\"M17.41 7.96l-1.37-1.37c-.4-.4-.92-.59-1.43-.59-.52 0-1.04.2-1.43.59L10.3 9.45l-7.72 7.72c-.78.78-.78 2.05 0 2.83L4 21.41c.39.39.9.59 1.41.59.51 0 1.02-.2 1.41-.59l7.78-7.78 2.81-2.81c.8-.78.8-2.07 0-2.86zM5.41 20L4 18.59l7.72-7.72 1.47 1.35L5.41 20z\"/>\n",
              "  </svg>\n",
              "      </button>\n",
              "      \n",
              "  <style>\n",
              "    .colab-df-container {\n",
              "      display:flex;\n",
              "      flex-wrap:wrap;\n",
              "      gap: 12px;\n",
              "    }\n",
              "\n",
              "    .colab-df-convert {\n",
              "      background-color: #E8F0FE;\n",
              "      border: none;\n",
              "      border-radius: 50%;\n",
              "      cursor: pointer;\n",
              "      display: none;\n",
              "      fill: #1967D2;\n",
              "      height: 32px;\n",
              "      padding: 0 0 0 0;\n",
              "      width: 32px;\n",
              "    }\n",
              "\n",
              "    .colab-df-convert:hover {\n",
              "      background-color: #E2EBFA;\n",
              "      box-shadow: 0px 1px 2px rgba(60, 64, 67, 0.3), 0px 1px 3px 1px rgba(60, 64, 67, 0.15);\n",
              "      fill: #174EA6;\n",
              "    }\n",
              "\n",
              "    [theme=dark] .colab-df-convert {\n",
              "      background-color: #3B4455;\n",
              "      fill: #D2E3FC;\n",
              "    }\n",
              "\n",
              "    [theme=dark] .colab-df-convert:hover {\n",
              "      background-color: #434B5C;\n",
              "      box-shadow: 0px 1px 3px 1px rgba(0, 0, 0, 0.15);\n",
              "      filter: drop-shadow(0px 1px 2px rgba(0, 0, 0, 0.3));\n",
              "      fill: #FFFFFF;\n",
              "    }\n",
              "  </style>\n",
              "\n",
              "      <script>\n",
              "        const buttonEl =\n",
              "          document.querySelector('#df-7d76000d-d29c-44f8-b635-860a4216ec22 button.colab-df-convert');\n",
              "        buttonEl.style.display =\n",
              "          google.colab.kernel.accessAllowed ? 'block' : 'none';\n",
              "\n",
              "        async function convertToInteractive(key) {\n",
              "          const element = document.querySelector('#df-7d76000d-d29c-44f8-b635-860a4216ec22');\n",
              "          const dataTable =\n",
              "            await google.colab.kernel.invokeFunction('convertToInteractive',\n",
              "                                                     [key], {});\n",
              "          if (!dataTable) return;\n",
              "\n",
              "          const docLinkHtml = 'Like what you see? Visit the ' +\n",
              "            '<a target=\"_blank\" href=https://colab.research.google.com/notebooks/data_table.ipynb>data table notebook</a>'\n",
              "            + ' to learn more about interactive tables.';\n",
              "          element.innerHTML = '';\n",
              "          dataTable['output_type'] = 'display_data';\n",
              "          await google.colab.output.renderOutput(dataTable, element);\n",
              "          const docLink = document.createElement('div');\n",
              "          docLink.innerHTML = docLinkHtml;\n",
              "          element.appendChild(docLink);\n",
              "        }\n",
              "      </script>\n",
              "    </div>\n",
              "  </div>\n",
              "  "
            ]
          },
          "metadata": {},
          "execution_count": 7
        }
      ]
    },
    {
      "cell_type": "code",
      "source": [
        "pd.unique(sample['Class'])"
      ],
      "metadata": {
        "colab": {
          "base_uri": "https://localhost:8080/"
        },
        "id": "XPQ5e1mFUcYB",
        "outputId": "0826b606-a459-402d-c03c-d6486f1204cc"
      },
      "execution_count": 8,
      "outputs": [
        {
          "output_type": "execute_result",
          "data": {
            "text/plain": [
              "array([1, 2])"
            ]
          },
          "metadata": {},
          "execution_count": 8
        }
      ]
    },
    {
      "cell_type": "code",
      "source": [
        "df=sample.values"
      ],
      "metadata": {
        "id": "sbkOoodIUiGR"
      },
      "execution_count": 24,
      "outputs": []
    },
    {
      "cell_type": "code",
      "source": [
        "data= df[:,:-1]\n",
        "y = df[:,-1]"
      ],
      "metadata": {
        "id": "0u5CqiaNUdsn"
      },
      "execution_count": 25,
      "outputs": []
    },
    {
      "cell_type": "code",
      "source": [
        "display(data)\n",
        "display(y)"
      ],
      "metadata": {
        "colab": {
          "base_uri": "https://localhost:8080/",
          "height": 486
        },
        "id": "r46mhEz0UpoH",
        "outputId": "8f4d537a-b9bb-408e-86e0-8200fafe383c"
      },
      "execution_count": 26,
      "outputs": [
        {
          "output_type": "display_data",
          "data": {
            "text/plain": [
              "array([[0.68, 0.49, 1.  , ..., 0.62, 0.55, 0.28],\n",
              "       [0.75, 0.84, 0.48, ..., 0.35, 0.52, 0.33],\n",
              "       [0.52, 0.44, 0.48, ..., 0.37, 0.36, 0.42],\n",
              "       ...,\n",
              "       [0.53, 0.38, 0.48, ..., 0.44, 0.26, 0.36],\n",
              "       [0.86, 0.39, 0.48, ..., 0.59, 0.89, 0.9 ],\n",
              "       [0.57, 0.59, 0.48, ..., 0.39, 0.47, 0.33]])"
            ]
          },
          "metadata": {}
        },
        {
          "output_type": "display_data",
          "data": {
            "text/plain": [
              "array([1., 1., 1., 2., 1., 1., 1., 1., 1., 2., 2., 1., 1., 2., 1., 2., 1.,\n",
              "       1., 1., 1., 1., 1., 1., 1., 1., 1., 1., 1., 1., 1., 1., 1., 1., 1.,\n",
              "       1., 2., 2., 1., 1., 1., 1., 1., 1., 1., 1., 1., 1., 1., 1., 1., 1.,\n",
              "       1., 1., 1., 1., 1., 1., 2., 1., 1., 1., 1., 1., 1., 1., 1., 1., 1.,\n",
              "       1., 1., 1., 1., 1., 1., 2., 1., 1., 1., 2., 1., 1., 1., 2., 1., 1.,\n",
              "       1., 1., 1., 1., 1., 2., 1., 1., 1., 1., 1., 2., 1., 1., 1., 1., 1.,\n",
              "       1., 1., 1., 1., 1., 1., 1., 2., 1., 1., 1., 1., 1., 1., 1., 1., 1.,\n",
              "       1., 1., 1., 1., 1., 2., 1., 1., 1., 1., 2., 1., 1., 1., 1., 2., 1.,\n",
              "       2., 1., 1., 1., 1., 1., 1., 1., 1., 1., 1., 2., 1., 1., 2., 1., 1.,\n",
              "       1., 1., 1., 1., 1., 1., 1., 1., 1., 1., 1., 1., 1., 1., 1., 1., 1.,\n",
              "       1., 1., 2., 2., 1., 1., 1., 1., 1., 1., 1., 1., 1., 1., 1., 1., 1.,\n",
              "       1., 1., 1., 1., 1., 1., 1., 1., 1., 1., 1., 1., 1., 1., 1., 1., 1.,\n",
              "       2., 1., 2., 1., 1., 1., 1., 1., 1., 1., 1., 1., 1., 1., 1., 1., 1.,\n",
              "       1., 1., 1., 1., 1., 1., 1., 1., 1., 1., 1., 1., 1., 2., 1., 1., 1.,\n",
              "       1., 1., 1., 1., 1., 2., 1., 2., 1., 1., 1., 1., 1., 1., 1., 1., 1.,\n",
              "       1., 1., 1., 1., 1., 1., 1., 1., 1., 1., 1., 2., 1., 1., 1., 1., 1.,\n",
              "       1., 1., 2., 1., 2., 1., 1., 1., 1., 1., 1., 1., 2., 1., 1., 1., 1.,\n",
              "       1., 1., 1., 1., 1., 2., 1., 1., 1., 1., 1., 1., 1., 1., 1., 1., 1.,\n",
              "       1., 1., 1., 1., 2., 1., 1., 1., 1., 1., 1., 1., 1., 1., 1., 2., 1.,\n",
              "       1., 1., 1., 1., 1., 1., 1., 1., 1., 1., 1., 2., 1.])"
            ]
          },
          "metadata": {}
        }
      ]
    },
    {
      "cell_type": "code",
      "source": [
        "from sklearn.preprocessing import  MinMaxScaler\n",
        "scaler=MinMaxScaler()\n",
        "scaler.fit(data)\n",
        "scaler.data_min_"
      ],
      "metadata": {
        "colab": {
          "base_uri": "https://localhost:8080/"
        },
        "id": "DlK-GGrjn10d",
        "outputId": "528be96b-fe0d-4c8c-cb0a-48883c2201d3"
      },
      "execution_count": 27,
      "outputs": [
        {
          "output_type": "execute_result",
          "data": {
            "text/plain": [
              "array([0.  , 0.16, 0.48, 0.5 , 0.  , 0.03, 0.  ])"
            ]
          },
          "metadata": {},
          "execution_count": 27
        }
      ]
    },
    {
      "cell_type": "code",
      "source": [
        "scaler.data_max_"
      ],
      "metadata": {
        "colab": {
          "base_uri": "https://localhost:8080/"
        },
        "id": "zDQuCIQLpuQk",
        "outputId": "f617950a-e691-401c-fb92-3ad034ff57ef"
      },
      "execution_count": 28,
      "outputs": [
        {
          "output_type": "execute_result",
          "data": {
            "text/plain": [
              "array([0.89, 1.  , 1.  , 1.  , 0.88, 1.  , 0.99])"
            ]
          },
          "metadata": {},
          "execution_count": 28
        }
      ]
    },
    {
      "cell_type": "code",
      "source": [
        "scaler.transform(data)  #(x-min)/(max-min)"
      ],
      "metadata": {
        "colab": {
          "base_uri": "https://localhost:8080/"
        },
        "id": "Yx_3JG3apyfB",
        "outputId": "33033ba0-7591-4a32-9308-1542dc7f012e"
      },
      "execution_count": 31,
      "outputs": [
        {
          "output_type": "execute_result",
          "data": {
            "text/plain": [
              "array([[0.76404494, 0.39285714, 1.        , ..., 0.70454545, 0.53608247,\n",
              "        0.28282828],\n",
              "       [0.84269663, 0.80952381, 0.        , ..., 0.39772727, 0.50515464,\n",
              "        0.33333333],\n",
              "       [0.58426966, 0.33333333, 0.        , ..., 0.42045455, 0.34020619,\n",
              "        0.42424242],\n",
              "       ...,\n",
              "       [0.59550562, 0.26190476, 0.        , ..., 0.5       , 0.2371134 ,\n",
              "        0.36363636],\n",
              "       [0.96629213, 0.27380952, 0.        , ..., 0.67045455, 0.88659794,\n",
              "        0.90909091],\n",
              "       [0.64044944, 0.51190476, 0.        , ..., 0.44318182, 0.45360825,\n",
              "        0.33333333]])"
            ]
          },
          "metadata": {},
          "execution_count": 31
        }
      ]
    },
    {
      "cell_type": "code",
      "source": [
        "from sklearn.preprocessing import normalize"
      ],
      "metadata": {
        "id": "3IKT79b0q06Y"
      },
      "execution_count": 32,
      "outputs": []
    },
    {
      "cell_type": "code",
      "source": [
        "A=normalize(data,norm='l2',axis=0)\n",
        "A"
      ],
      "metadata": {
        "colab": {
          "base_uri": "https://localhost:8080/"
        },
        "id": "cQTAW7NorILJ",
        "outputId": "3475c14a-2696-492c-f89b-e593b16ccc9e"
      },
      "execution_count": 35,
      "outputs": [
        {
          "output_type": "execute_result",
          "data": {
            "text/plain": [
              "array([[0.06914677, 0.05126651, 0.10839486, ..., 0.06570994, 0.05509545,\n",
              "        0.02819798],\n",
              "       [0.07626482, 0.08788544, 0.05202953, ..., 0.03709432, 0.05209025,\n",
              "        0.03323334],\n",
              "       [0.05287694, 0.04603523, 0.05202953, ..., 0.039214  , 0.03606248,\n",
              "        0.04229697],\n",
              "       ...,\n",
              "       [0.0538938 , 0.0397577 , 0.05202953, ..., 0.04663286, 0.02604512,\n",
              "        0.03625455],\n",
              "       [0.08745032, 0.04080395, 0.05202953, ..., 0.06253043, 0.08915446,\n",
              "        0.09063637],\n",
              "       [0.05796126, 0.06172906, 0.05202953, ..., 0.04133367, 0.04708157,\n",
              "        0.03323334]])"
            ]
          },
          "metadata": {},
          "execution_count": 35
        }
      ]
    },
    {
      "cell_type": "code",
      "execution_count": 36,
      "metadata": {
        "colab": {
          "base_uri": "https://localhost:8080/",
          "height": 364
        },
        "id": "OC5zOaiJT3Ez",
        "outputId": "8ca4b96f-8e83-47cd-e9ae-4a876a79e708"
      },
      "outputs": [
        {
          "output_type": "display_data",
          "data": {
            "text/plain": [
              "array([1., 1., 1., 1., 1., 1., 1., 2., 1., 1., 1., 1., 1., 1., 1., 1., 1.,\n",
              "       1., 1., 1., 1., 1., 1., 1., 1., 1., 1., 1., 1., 1., 1., 2., 1., 2.,\n",
              "       1., 1., 1., 1., 1., 1., 1., 1., 1., 1., 2., 1., 1., 1., 1., 1., 1.,\n",
              "       1., 1., 2., 1., 1., 1., 1., 1., 1., 1., 1., 2., 1., 1., 1., 1., 2.,\n",
              "       1., 1., 1., 1., 1., 1., 1., 1., 1., 1., 2., 1., 1., 1., 1., 1., 1.,\n",
              "       1., 1., 1., 1., 1., 1., 1., 1., 1., 1., 1., 1., 2., 1., 1., 1., 1.,\n",
              "       1., 2., 1., 1., 1., 1., 2., 1., 1., 1., 1., 2., 2., 1., 1., 1., 1.,\n",
              "       1., 1., 1., 1., 1., 1., 1., 1., 1., 1., 1., 1., 1., 2., 1., 1., 2.,\n",
              "       1., 1., 1., 1., 1., 1., 1., 1., 1., 1., 1., 1., 1., 1., 1., 1., 1.,\n",
              "       1., 1., 1., 1., 1., 1., 1., 1., 1., 1., 1., 2., 1., 1., 1., 1., 1.,\n",
              "       1., 1., 1., 1., 1., 1., 1., 1., 1., 1., 1., 1., 1., 1., 1., 1., 1.,\n",
              "       1., 1., 1., 1., 1., 1., 1., 2., 1., 1., 1., 1., 2., 1., 2., 1., 1.,\n",
              "       1., 1., 2., 1., 1., 1., 1., 1., 1., 1., 1., 1., 2., 1., 1., 1., 1.,\n",
              "       1., 1., 1., 1., 1., 1., 1., 1., 1., 1., 1., 1., 1., 1.])"
            ]
          },
          "metadata": {}
        },
        {
          "output_type": "display_data",
          "data": {
            "text/plain": [
              "array([1., 1., 1., 1., 1., 1., 1., 1., 1., 1., 1., 1., 2., 2., 1., 1., 1.,\n",
              "       1., 1., 1., 1., 1., 1., 1., 2., 1., 1., 1., 1., 1., 1., 2., 1., 2.,\n",
              "       1., 1., 1., 1., 2., 1., 1., 1., 1., 1., 1., 1., 1., 1., 1., 1., 1.,\n",
              "       1., 1., 1., 1., 1., 1., 1., 1., 1., 1., 2., 1., 1., 1., 1., 1., 2.,\n",
              "       1., 1., 1., 1., 1., 1., 1., 2., 2., 1., 1., 1., 1., 1., 1., 1., 1.,\n",
              "       1., 2., 1., 1., 1., 1., 1., 1., 2., 2., 1., 1., 2., 1., 1., 1.])"
            ]
          },
          "metadata": {}
        }
      ],
      "source": [
        "A_train,A_test=train_test_split(A,test_size=0.3,random_state=42)\n",
        "y_train,y_test=train_test_split(y,test_size=0.3,random_state=42)\n",
        "display(y_train)\n",
        "display(y_test)"
      ]
    },
    {
      "cell_type": "code",
      "source": [
        "data.shape"
      ],
      "metadata": {
        "colab": {
          "base_uri": "https://localhost:8080/"
        },
        "id": "SZY7r-7N0bLJ",
        "outputId": "2d601156-524e-44bd-a95d-e7abcebeb492"
      },
      "execution_count": 53,
      "outputs": [
        {
          "output_type": "execute_result",
          "data": {
            "text/plain": [
              "(336, 7)"
            ]
          },
          "metadata": {},
          "execution_count": 53
        }
      ]
    },
    {
      "cell_type": "code",
      "execution_count": 37,
      "metadata": {
        "id": "Nokbi8NlMUsS"
      },
      "outputs": [],
      "source": [
        "def sigma(A):\n",
        "    N = A.shape[0]\n",
        "    sigma = []\n",
        "    for i in range(N):\n",
        "        for j in range(i+1, N):\n",
        "            sigma.append(np.square(np.linalg.norm(A[i,:]-A[j,:])))\n",
        "\n",
        "    return 0.1 * np.max(sigma)"
      ]
    },
    {
      "cell_type": "code",
      "execution_count": 38,
      "metadata": {
        "colab": {
          "base_uri": "https://localhost:8080/"
        },
        "id": "8PPzNFhLMUsT",
        "outputId": "b55a4aed-a5ef-4d7b-e2dc-067c8fe78d11"
      },
      "outputs": [
        {
          "output_type": "stream",
          "name": "stdout",
          "text": [
            "0.0019049892181200708\n"
          ]
        }
      ],
      "source": [
        "sig=sigma(A)\n",
        "print(sig)"
      ]
    },
    {
      "cell_type": "code",
      "execution_count": 39,
      "metadata": {
        "id": "9F_6yKAsMUsU"
      },
      "outputs": [],
      "source": [
        "def K(FV1, FV2):\n",
        "    dist = np.linalg.norm(FV1-FV2)\n",
        "    return np.exp(-1*np.square(dist)/(2*sig))"
      ]
    },
    {
      "cell_type": "code",
      "execution_count": 40,
      "metadata": {
        "id": "2Gn7TrwlMUsU"
      },
      "outputs": [],
      "source": [
        "def give_KSS(S):\n",
        "    KSS = []\n",
        "    for i in S:\n",
        "        for j in S:\n",
        "            KSS.append( K(A[i,:], A[j,:]))\n",
        "\n",
        "    return np.array(KSS).reshape((len(S), len(S)))"
      ]
    },
    {
      "cell_type": "code",
      "execution_count": 41,
      "metadata": {
        "id": "d_2rXtSnMUsV"
      },
      "outputs": [],
      "source": [
        "def give_KSx(S, x):\n",
        "    KSx = []\n",
        "    for i in S:\n",
        "        kx = K(A[i,:], x)\n",
        "        KSx.append(kx)\n",
        "    return np.array(KSx).reshape((len(S), 1))"
      ]
    },
    {
      "cell_type": "code",
      "execution_count": 42,
      "metadata": {
        "id": "PuyX6cwqMUsW"
      },
      "outputs": [],
      "source": [
        "def give_beta(S, x):\n",
        "    KSx = give_KSx(S, x).reshape(len(S), 1)\n",
        "    KSS = give_KSS(S)\n",
        "    DSS = np.diag(np.diag(np.sqrt(KSS)))\n",
        "    beta = np.dot(np.dot(np.transpose(KSx), np.linalg.inv(KSS)), DSS)\n",
        "    return beta"
      ]
    },
    {
      "cell_type": "code",
      "execution_count": 43,
      "metadata": {
        "colab": {
          "base_uri": "https://localhost:8080/"
        },
        "id": "5BveU0LsMUsW",
        "outputId": "272c47e4-850f-4f06-ff37-4217b23d9c60"
      },
      "outputs": [
        {
          "output_type": "stream",
          "name": "stdout",
          "text": [
            "0.5481042574950599\n"
          ]
        },
        {
          "output_type": "stream",
          "name": "stderr",
          "text": [
            "/usr/local/lib/python3.7/dist-packages/ipykernel_launcher.py:52: RuntimeWarning: divide by zero encountered in long_scalars\n"
          ]
        },
        {
          "output_type": "stream",
          "name": "stdout",
          "text": [
            "0.2420271239383165\n",
            "0.2167768430181397\n",
            "0.23236929571020326\n",
            "0.22728161417125683\n",
            "0.24996762556803753\n",
            "0.2303320603003787\n",
            "0.25787936873163003\n",
            "0.20952528290399258\n",
            "0.2787577009688566\n",
            "0.24386867333973225\n",
            "0.2805863257049147\n",
            "0.22461040632145143\n",
            "0.2599588857186888\n",
            "0.2655695933226068\n",
            "0.2480178668671653\n",
            "0.2435386159727006\n",
            "0.22616927719549026\n",
            "0.23613401063628323\n",
            "0.23175950917959717\n",
            "0.1913939845504213\n",
            "0.20763774218277944\n",
            "0.23733033108365742\n",
            "0.12026495023349822\n",
            "0.22418647517327903\n",
            "0.38235771720789524\n",
            "0.23242691979935498\n",
            "0.2261692771949513\n",
            "0.21839028535789534\n",
            "0.26633673764818755\n",
            "0.22616927719530047\n",
            "0.21885028512320714\n",
            "0.2541857554201235\n",
            "0.20760366481196887\n",
            "0.23175950917991772\n",
            "0.17805955396226572\n",
            "0.17060356094668488\n",
            "0.22616927719497826\n",
            "0.26116414741570193\n",
            "0.21738659180295009\n",
            "0.20770469737487252\n",
            "0.23533098569547115\n",
            "0.21953595555370028\n",
            "0.215620202531593\n",
            "0.22616927719602078\n",
            "0.23175950918022026\n",
            "0.25406813621412605\n",
            "0.21553967436352245\n",
            "0.27151208458434095\n",
            "0.2382934275315186\n",
            "0.23175950918106758\n",
            "0.23580425250800097\n",
            "0.2276193078856467\n",
            "0.23175950917929528\n",
            "0.13431776151859132\n",
            "0.20906671540907382\n",
            "0.23175950918001295\n",
            "0.23613401063660466\n",
            "0.17212128403374552\n",
            "0.22811195273968657\n",
            "0.22167350525724705\n",
            "0.24038552429374158\n",
            "0.22616927719517693\n",
            "0.20509281791775685\n",
            "0.2421405358087381\n",
            "0.2167688242243207\n",
            "0.26898458101073947\n",
            "0.2458169488842562\n",
            "0.207135239999904\n",
            "0.23175950917950644\n",
            "0.24157423302474196\n",
            "0.2680872340254069\n",
            "0.23175950917904053\n",
            "0.2579212640765943\n",
            "0.2342019210274253\n",
            "0.23756582918428815\n",
            "0.2163164683567479\n",
            "0.2356584815523422\n",
            "0.22616927719513172\n",
            "0.1920657495489408\n",
            "0.18909840352489646\n",
            "0.23730262384985945\n",
            "0.2507894102853294\n",
            "0.232867663613346\n",
            "0.2181585887970725\n",
            "0.23175950918044452\n",
            "0.23175950918032323\n",
            "0.21950179016783217\n",
            "0.3074062979737757\n",
            "0.22422487292972343\n",
            "0.17060356094764262\n",
            "0.2565321788746525\n",
            "0.2925864833651008\n",
            "0.2536020474691889\n",
            "0.21715525901608662\n",
            "0.23281639569155588\n",
            "0.23613401063631867\n",
            "0.23175950917931507\n",
            "0.24169159605641613\n",
            "0.23175950918015606\n",
            "0.2562766051631521\n",
            "0.24377846740526338\n",
            "0.23613401063624756\n",
            "0.2061498020841109\n",
            "0.196793484180553\n",
            "0.25576256501594363\n",
            "0.21674381254838299\n",
            "0.23175950917965701\n",
            "0.2253591091169018\n",
            "0.230178332336804\n",
            "0.21968806204867367\n",
            "0.20705885650925876\n",
            "0.23000241484323225\n",
            "0.25610222773578356\n",
            "0.2474464041883099\n",
            "0.23347248487229255\n",
            "0.22535404296844233\n",
            "0.21041689368700453\n",
            "0.22274564963782992\n",
            "0.23613401063625417\n",
            "0.19386442262274803\n",
            "0.36682523510709575\n",
            "0.2361340106368317\n",
            "0.2433246566867459\n",
            "0.2280725110023922\n",
            "0.2204282158569741\n",
            "0.2299065991470193\n",
            "0.24714609654707154\n",
            "0.22975803559169908\n",
            "0.2946395611732382\n",
            "0.17179318693041393\n",
            "0.2707485950182638\n",
            "0.21435931314960502\n",
            "0.20716541075493936\n",
            "0.21434218262515162\n",
            "0.2261692771945362\n",
            "0.2317595091804756\n",
            "0.21478900274471757\n",
            "0.16030372143915086\n",
            "0.2516417217269274\n",
            "0.23613401063627784\n",
            "0.23613401063721937\n",
            "0.2261692771959155\n",
            "0.23175950917900043\n",
            "0.2422536231420078\n",
            "0.13203465488028876\n",
            "0.20367012613271204\n",
            "0.21468835715249135\n",
            "0.24944831204895318\n",
            "0.23660739994795954\n",
            "0.22612690202925823\n",
            "0.2317595091809607\n",
            "0.23175950917835964\n",
            "0.2361340106361495\n",
            "0.22225174869144784\n",
            "0.23175950917995458\n",
            "0.24420283985954733\n",
            "0.23826462133916224\n",
            "0.20535085726866434\n",
            "0.23115436958237243\n",
            "0.24099193914855757\n",
            "0.2736113868570839\n",
            "0.17060356094699192\n",
            "0.23982859568344292\n",
            "0.23879451523075154\n",
            "0.261367926470882\n",
            "0.24845068688793656\n",
            "0.22802186553465528\n",
            "0.3428005434343755\n",
            "0.22800545320686144\n",
            "0.2238955455684458\n",
            "0.22745162848907602\n",
            "0.23025624254772356\n",
            "0.170603560946934\n",
            "0.1832544984444604\n",
            "0.21212752940645843\n",
            "0.24143691189718633\n",
            "0.23150905027868976\n",
            "0.22305641809589574\n",
            "0.23185303392623535\n",
            "0.17698524978082303\n",
            "0.17347054007671908\n",
            "0.2690321685119511\n",
            "0.24129219244827438\n",
            "0.2212986321532817\n",
            "0.3096062001998382\n",
            "0.25380528581464495\n",
            "0.22889097048517493\n",
            "0.25749575030051186\n",
            "0.20536946101802175\n",
            "0.21432170790318097\n",
            "0.23991373515591946\n",
            "0.17060356094711387\n",
            "0.25562611644997285\n",
            "0.25441787523559073\n",
            "0.2297027310241468\n",
            "0.23175950917985652\n",
            "0.22305641809594795\n",
            "0.2287297385123525\n",
            "0.22922847566304735\n",
            "0.23048313571912665\n",
            "0.23816660417243202\n",
            "0.18902359455505977\n",
            "0.2695545863364314\n",
            "0.2794842072764194\n",
            "0.24272445364722167\n",
            "0.2705325054841691\n",
            "0.23344517671229192\n",
            "0.2728702534616142\n",
            "0.29087243611505487\n",
            "0.21660532278353364\n",
            "0.2223110487384179\n",
            "0.24460750924841507\n",
            "0.2586110320148745\n",
            "[234, 137, 156, 48, 20, 120, 55, 31, 107, 167, 178, 150, 115, 61, 157, 40, 106, 18, 28, 39, 32, 69, 171, 110, 94, 155, 93, 58, 37, 151, 80, 86, 169, 218, 158, 212, 114, 198, 195, 63, 73, 19, 217, 168, 76, 197, 5, 133, 99, 206]\n"
          ]
        }
      ],
      "source": [
        "minor_index=np.where(y_train==1)[0].tolist()\n",
        "lambdamax=-np.inf\n",
        "best_iter=-1\n",
        "counter=0\n",
        "total_S=[]\n",
        "lam = []\n",
        "for i in minor_index:\n",
        "    current_S=[i]\n",
        "    ctrl=1\n",
        "    while (len(current_S)<N_m and ctrl==1):\n",
        "        current_inv =np.linalg.inv(give_KSS(current_S))\n",
        "        max_LF=-np.inf\n",
        "        max_LF_index=-1\n",
        "        remaining=list(set(range(A_train.shape[0]))-set(current_S))\n",
        "        #print(remaining)\n",
        "        for j in remaining:\n",
        "            KSx=give_KSx(current_S,A_train[j,:])\n",
        "            LF =abs(1-((KSx.T).dot(current_inv).dot(KSx)))\n",
        "            if LF> max_LF:\n",
        "                max_LF=LF\n",
        "                max_LF_index=j\n",
        "        if(max_LF<0.001):\n",
        "            ctrl=0\n",
        "        else:\n",
        "            current_S.append(max_LF_index)\n",
        "    total_S.append(current_S)\n",
        "    \n",
        "    S0=list(set(current_S)& (set(range(A_train.shape[0]))-set(minor_index)))\n",
        "    S1=list(set(current_S) & set(minor_index))\n",
        "    B0=np.zeros((len(S0),len(current_S) ))\n",
        "    B1=np.zeros((len(S1), len(current_S)))\n",
        "    rownum=0\n",
        "    for k in S0:\n",
        "        B0[rownum,:]=give_beta(current_S, A_train[k,:]).flatten()\n",
        "        rownum=rownum+1\n",
        "    rownum=0\n",
        "    for k in S1:\n",
        "        B1[rownum,:]=give_beta(current_S, A_train[k,:]).flatten()\n",
        "        rownum=rownum+1\n",
        "        \n",
        "    mean0=B0.mean(axis=0)\n",
        "    mean1=B1.mean(axis=0)\n",
        "    \n",
        "    var0=B0.var(axis=0)\n",
        "    var1=B1.var(axis=0)\n",
        "    \n",
        "    lam=(((mean0-mean1)**2)/(var0+var1))\n",
        "    \n",
        "\n",
        "    total_lam=np.sum(lam)/np.shape(lam)[0]\n",
        "    print(total_lam)\n",
        "    if(lambdamax<total_lam-1000*((1-(((y_train[current_S]==1).sum())/((y_train[current_S]==0).sum())))**2)):\n",
        "        lambdamax=total_lam\n",
        "        best_iter=counter\n",
        "    counter=counter+1\n",
        "\n",
        "\n",
        "\n",
        "\n",
        "A_train[total_S[best_iter],:]\n",
        "\n",
        "print(total_S[best_iter])\n",
        "        \n",
        "    \n",
        "    \n",
        "    "
      ]
    },
    {
      "cell_type": "code",
      "execution_count": 44,
      "metadata": {
        "id": "_HYlF84UMUsY"
      },
      "outputs": [],
      "source": [
        "model = svm.SVC(C=1000,kernel = \"rbf\", gamma =1/(2*sig))"
      ]
    },
    {
      "cell_type": "code",
      "execution_count": 45,
      "metadata": {
        "colab": {
          "base_uri": "https://localhost:8080/"
        },
        "id": "zY_2C7vEMUsZ",
        "outputId": "1ac27292-fd62-4e76-fe8d-210425d819be"
      },
      "outputs": [
        {
          "output_type": "execute_result",
          "data": {
            "text/plain": [
              "SVC(C=1000, gamma=262.4686771158855)"
            ]
          },
          "metadata": {},
          "execution_count": 45
        }
      ],
      "source": [
        "model.fit(A_train[total_S[best_iter],:], y_train[total_S[best_iter]])"
      ]
    },
    {
      "cell_type": "code",
      "execution_count": 46,
      "metadata": {
        "colab": {
          "base_uri": "https://localhost:8080/"
        },
        "id": "zw_7YLDsMUsa",
        "outputId": "e1482f1e-6b74-4c72-e6b5-ae32d9d136ab"
      },
      "outputs": [
        {
          "output_type": "execute_result",
          "data": {
            "text/plain": [
              "0.9108910891089109"
            ]
          },
          "metadata": {},
          "execution_count": 46
        }
      ],
      "source": [
        "model.score(A_test, y_test)"
      ]
    },
    {
      "cell_type": "code",
      "execution_count": 47,
      "metadata": {
        "id": "JRr80fmMMUsa"
      },
      "outputs": [],
      "source": [
        "# Enter minor major labels\n",
        "minor_cls = 2\n",
        "major_cls = 1\n",
        "cls_types= np.array([major_cls, minor_cls])"
      ]
    },
    {
      "cell_type": "code",
      "execution_count": 48,
      "metadata": {
        "colab": {
          "base_uri": "https://localhost:8080/"
        },
        "id": "icgSaoWiMUsb",
        "outputId": "b49d562b-c75a-408e-eb06-95b348147e9a"
      },
      "outputs": [
        {
          "output_type": "execute_result",
          "data": {
            "text/plain": [
              "array([1, 2])"
            ]
          },
          "metadata": {},
          "execution_count": 48
        }
      ],
      "source": [
        "cls_types"
      ]
    },
    {
      "cell_type": "code",
      "execution_count": 49,
      "metadata": {
        "colab": {
          "base_uri": "https://localhost:8080/",
          "height": 489
        },
        "id": "R4g7XSeaMUsb",
        "outputId": "03bb1ce6-d217-4861-9888-7366800873f6"
      },
      "outputs": [
        {
          "output_type": "execute_result",
          "data": {
            "text/plain": [
              "Text(0.5, 89.87999999999997, 'Predicted')"
            ]
          },
          "metadata": {},
          "execution_count": 49
        },
        {
          "output_type": "display_data",
          "data": {
            "text/plain": [
              "<Figure size 576x576 with 2 Axes>"
            ],
            "image/png": "[encoded data removed]"
          },
          "metadata": {
            "needs_background": "light"
          }
        }
      ],
      "source": [
        "Y_pred = model.predict(A_test)\n",
        "Y_true = y_test\n",
        "cm = confusion_matrix(Y_true, Y_pred)\n",
        "plt.figure(figsize=(8, 8))\n",
        "ax = sns.heatmap(cm, cmap=plt.cm.Greens, annot=True, square=True, xticklabels=cls_types, yticklabels=cls_types)\n",
        "ax.set_ylabel('Actual')\n",
        "ax.set_xlabel('Predicted')"
      ]
    },
    {
      "cell_type": "code",
      "execution_count": 50,
      "metadata": {
        "id": "3Qva_LQgMUsc"
      },
      "outputs": [],
      "source": [
        "TN = cm[0][0]\n",
        "TP = cm[1][1]\n",
        "FN = cm[1][0]\n",
        "FP = cm[0][1]\n",
        "\n",
        "TPR = TP / (TP+FN)\n",
        "TNR = TN / (TN+FP)\n",
        "precision = TP / (TP+FP)\n",
        "recall=TP/(TP+FN)                  "
      ]
    },
    {
      "cell_type": "code",
      "execution_count": 51,
      "metadata": {
        "colab": {
          "base_uri": "https://localhost:8080/"
        },
        "id": "PQph7TI6MUsd",
        "outputId": "311ed120-ea7b-4b42-c67e-2cd7d5a82d56"
      },
      "outputs": [
        {
          "output_type": "stream",
          "name": "stdout",
          "text": [
            "0.5976143046671968\n",
            "0.5263157894736842\n",
            "1.0\n",
            "0.35714285714285715\n"
          ]
        }
      ],
      "source": [
        "G_mean = np.sqrt(TPR*TNR)\n",
        "F_measure = (2*precision*TPR)/(precision+TPR)\n",
        "\n",
        "print(G_mean)\n",
        "print(F_measure)\n",
        "print(precision)\n",
        "print(recall)"
      ]
    },
    {
      "cell_type": "code",
      "execution_count": null,
      "metadata": {
        "colab": {
          "base_uri": "https://localhost:8080/"
        },
        "id": "bJTISWkfT3Fh",
        "outputId": "2429f413-e381-499d-dd4b-8703d4e301be"
      },
      "outputs": [
        {
          "output_type": "stream",
          "name": "stdout",
          "text": [
            "[[0.38 0.3  0.48 0.5  0.43 0.29 0.39]\n",
            " [0.29 0.3  0.48 0.5  0.45 0.03 0.17]\n",
            " [0.75 0.55 1.   1.   0.4  0.47 0.3 ]\n",
            " [0.67 0.55 1.   0.5  0.66 0.58 0.16]\n",
            " [0.6  0.76 1.   0.5  0.77 0.59 0.52]\n",
            " [0.68 0.49 1.   0.5  0.62 0.55 0.28]\n",
            " [0.06 0.61 0.48 0.5  0.49 0.92 0.37]\n",
            " [0.49 0.61 1.   0.5  0.56 0.71 0.74]\n",
            " [0.66 0.49 1.   0.5  0.54 0.56 0.36]\n",
            " [0.7  0.39 1.   0.5  0.51 0.82 0.84]\n",
            " [0.6  0.5  1.   0.5  0.54 0.77 0.8 ]\n",
            " [0.61 0.47 0.48 0.5  0.   0.8  0.32]\n",
            " [0.1  0.49 0.48 0.5  0.41 0.67 0.21]\n",
            " [0.77 0.57 0.48 0.5  0.88 0.53 0.2 ]\n",
            " [0.   0.51 0.48 0.5  0.35 0.67 0.44]\n",
            " [0.75 0.76 0.48 0.5  0.83 0.57 0.3 ]\n",
            " [0.69 0.59 0.48 0.5  0.77 0.39 0.21]\n",
            " [0.46 0.59 0.48 0.5  0.36 0.76 0.23]\n",
            " [0.63 0.49 0.48 0.5  0.79 0.45 0.28]\n",
            " [0.12 0.67 0.48 0.5  0.74 0.58 0.63]\n",
            " [0.74 0.78 0.48 0.5  0.75 0.54 0.15]\n",
            " [0.4  0.45 0.48 0.5  0.38 0.22 0.  ]\n",
            " [0.5  0.66 0.48 0.5  0.31 0.92 0.92]\n",
            " [0.3  0.51 0.48 0.5  0.42 0.61 0.34]\n",
            " [0.56 0.68 0.48 0.5  0.77 0.36 0.45]\n",
            " [0.63 0.57 0.48 0.5  0.49 0.7  0.2 ]\n",
            " [0.72 0.86 0.48 0.5  0.17 0.55 0.21]\n",
            " [0.74 0.56 0.48 0.5  0.47 0.68 0.3 ]\n",
            " [0.65 0.51 0.48 0.5  0.66 0.54 0.33]\n",
            " [0.34 0.51 0.48 0.5  0.67 0.9  0.9 ]\n",
            " [0.11 0.5  0.48 0.5  0.58 0.72 0.68]\n",
            " [0.31 0.36 0.48 0.5  0.58 0.94 0.94]\n",
            " [0.61 0.66 0.48 0.5  0.46 0.87 0.88]\n",
            " [0.89 0.55 0.48 0.5  0.51 0.72 0.76]\n",
            " [0.3  0.16 0.48 0.5  0.56 0.11 0.23]\n",
            " [0.88 0.42 0.48 0.5  0.52 0.73 0.75]\n",
            " [0.67 0.84 0.48 0.5  0.74 0.54 0.37]\n",
            " [0.46 0.61 0.48 0.5  0.48 0.86 0.87]\n",
            " [0.74 0.47 0.48 0.5  0.5  0.57 0.42]\n",
            " [0.71 0.52 0.48 0.5  0.64 1.   0.99]\n",
            " [0.74 0.49 0.48 0.5  0.42 0.54 0.36]\n",
            " [0.   0.38 0.48 0.5  0.42 0.48 0.55]\n",
            " [0.32 0.33 0.48 0.5  0.6  0.06 0.2 ]\n",
            " [0.04 0.31 0.48 0.5  0.41 0.29 0.39]\n",
            " [0.47 0.47 0.48 0.5  0.22 0.16 0.26]\n",
            " [0.44 0.42 0.48 0.5  0.42 0.25 0.2 ]\n",
            " [0.34 0.49 0.48 0.5  0.58 0.85 0.8 ]\n",
            " [0.84 0.44 0.48 0.5  0.48 0.71 0.74]\n",
            " [0.63 0.83 0.48 0.5  0.4  0.39 0.19]\n",
            " [0.81 0.44 0.48 0.5  0.42 0.67 0.68]]\n"
          ]
        }
      ],
      "source": [
        "print(A_train[total_S[best_iter],:])"
      ]
    },
    {
      "cell_type": "code",
      "execution_count": null,
      "metadata": {
        "colab": {
          "base_uri": "https://localhost:8080/"
        },
        "id": "CH3X5EChT3Fj",
        "outputId": "e1c359fd-1464-438f-a764-465944c94a18"
      },
      "outputs": [
        {
          "output_type": "stream",
          "name": "stdout",
          "text": [
            "[1. 1. 1. 1. 1. 1. 1. 2. 1. 1. 1. 1. 1. 1. 1. 1. 1. 1. 1. 1. 1. 1. 1. 1.\n",
            " 1. 1. 1. 1. 1. 1. 1. 1. 1. 1. 1. 2. 1. 1. 1. 1. 1. 1. 1. 1. 1. 1. 1. 1.\n",
            " 1. 2.]\n"
          ]
        }
      ],
      "source": [
        "print(y_train[total_S[best_iter]])"
      ]
    },
    {
      "cell_type": "code",
      "execution_count": null,
      "metadata": {
        "colab": {
          "base_uri": "https://localhost:8080/",
          "height": 345
        },
        "id": "1IRh0r0NF_mU",
        "outputId": "537081ef-8bf5-40f6-c949-25a9fcf26156",
        "scrolled": false
      },
      "outputs": [
        {
          "output_type": "error",
          "ename": "ValueError",
          "evalue": "ignored",
          "traceback": [
            "\u001b[0;31m---------------------------------------------------------------------------\u001b[0m",
            "\u001b[0;31mValueError\u001b[0m                                Traceback (most recent call last)",
            "\u001b[0;32m<ipython-input-132-1408fa9ec156>\u001b[0m in \u001b[0;36m<module>\u001b[0;34m()\u001b[0m\n\u001b[1;32m      4\u001b[0m \u001b[0;31m#plt.scatter(x1[y1==0], x2[y1==0], s=25, c='r')\u001b[0m\u001b[0;34m\u001b[0m\u001b[0;34m\u001b[0m\u001b[0;34m\u001b[0m\u001b[0m\n\u001b[1;32m      5\u001b[0m \u001b[0;31m#plt.scatter(x1[y1==1], x2[y1==1], s=25, c='b')\u001b[0m\u001b[0;34m\u001b[0m\u001b[0;34m\u001b[0m\u001b[0;34m\u001b[0m\u001b[0m\n\u001b[0;32m----> 6\u001b[0;31m \u001b[0mplot_decision_regions\u001b[0m\u001b[0;34m(\u001b[0m\u001b[0mA_train\u001b[0m\u001b[0;34m[\u001b[0m\u001b[0mtotal_S\u001b[0m\u001b[0;34m[\u001b[0m\u001b[0mbest_iter\u001b[0m\u001b[0;34m]\u001b[0m\u001b[0;34m,\u001b[0m\u001b[0;34m:\u001b[0m\u001b[0;34m]\u001b[0m\u001b[0;34m,\u001b[0m \u001b[0my_train\u001b[0m\u001b[0;34m[\u001b[0m\u001b[0mtotal_S\u001b[0m\u001b[0;34m[\u001b[0m\u001b[0mbest_iter\u001b[0m\u001b[0;34m]\u001b[0m\u001b[0;34m]\u001b[0m\u001b[0;34m,\u001b[0m \u001b[0mclf\u001b[0m\u001b[0;34m=\u001b[0m\u001b[0mmodel\u001b[0m\u001b[0;34m)\u001b[0m\u001b[0;34m\u001b[0m\u001b[0;34m\u001b[0m\u001b[0m\n\u001b[0m",
            "\u001b[0;32m/usr/local/lib/python3.7/dist-packages/mlxtend/plotting/decision_regions.py\u001b[0m in \u001b[0;36mplot_decision_regions\u001b[0;34m(X, y, clf, feature_index, filler_feature_values, filler_feature_ranges, ax, X_highlight, res, legend, hide_spines, markers, colors, scatter_kwargs, contourf_kwargs, scatter_highlight_kwargs)\u001b[0m\n\u001b[1;32m    127\u001b[0m     \"\"\"\n\u001b[1;32m    128\u001b[0m \u001b[0;34m\u001b[0m\u001b[0m\n\u001b[0;32m--> 129\u001b[0;31m     \u001b[0mcheck_Xy\u001b[0m\u001b[0;34m(\u001b[0m\u001b[0mX\u001b[0m\u001b[0;34m,\u001b[0m \u001b[0my\u001b[0m\u001b[0;34m,\u001b[0m \u001b[0my_int\u001b[0m\u001b[0;34m=\u001b[0m\u001b[0;32mTrue\u001b[0m\u001b[0;34m)\u001b[0m  \u001b[0;31m# Validate X and y arrays\u001b[0m\u001b[0;34m\u001b[0m\u001b[0;34m\u001b[0m\u001b[0m\n\u001b[0m\u001b[1;32m    130\u001b[0m     \u001b[0mdim\u001b[0m \u001b[0;34m=\u001b[0m \u001b[0mX\u001b[0m\u001b[0;34m.\u001b[0m\u001b[0mshape\u001b[0m\u001b[0;34m[\u001b[0m\u001b[0;36m1\u001b[0m\u001b[0;34m]\u001b[0m\u001b[0;34m\u001b[0m\u001b[0;34m\u001b[0m\u001b[0m\n\u001b[1;32m    131\u001b[0m \u001b[0;34m\u001b[0m\u001b[0m\n",
            "\u001b[0;32m/usr/local/lib/python3.7/dist-packages/mlxtend/utils/checking.py\u001b[0m in \u001b[0;36mcheck_Xy\u001b[0;34m(X, y, y_int)\u001b[0m\n\u001b[1;32m     21\u001b[0m         raise ValueError('y must be an integer array. Found %s. '\n\u001b[1;32m     22\u001b[0m                          \u001b[0;34m'Try passing the array as y.astype(np.integer)'\u001b[0m\u001b[0;34m\u001b[0m\u001b[0;34m\u001b[0m\u001b[0m\n\u001b[0;32m---> 23\u001b[0;31m                          % y.dtype)\n\u001b[0m\u001b[1;32m     24\u001b[0m \u001b[0;34m\u001b[0m\u001b[0m\n\u001b[1;32m     25\u001b[0m     \u001b[0;32mif\u001b[0m \u001b[0;32mnot\u001b[0m \u001b[0;34m(\u001b[0m\u001b[0;34m'float'\u001b[0m \u001b[0;32min\u001b[0m \u001b[0mstr\u001b[0m\u001b[0;34m(\u001b[0m\u001b[0mX\u001b[0m\u001b[0;34m.\u001b[0m\u001b[0mdtype\u001b[0m\u001b[0;34m)\u001b[0m \u001b[0;32mor\u001b[0m \u001b[0;34m'int'\u001b[0m \u001b[0;32min\u001b[0m \u001b[0mstr\u001b[0m\u001b[0;34m(\u001b[0m\u001b[0mX\u001b[0m\u001b[0;34m.\u001b[0m\u001b[0mdtype\u001b[0m\u001b[0;34m)\u001b[0m\u001b[0;34m)\u001b[0m\u001b[0;34m:\u001b[0m\u001b[0;34m\u001b[0m\u001b[0;34m\u001b[0m\u001b[0m\n",
            "\u001b[0;31mValueError\u001b[0m: y must be an integer array. Found float64. Try passing the array as y.astype(np.integer)"
          ]
        }
      ],
      "source": [
        "x1 = A_train[:, 0]\n",
        "x2 = A_train[:, 1]\n",
        "y1 = y_train.astype(int)\n",
        "#plt.scatter(x1[y1==0], x2[y1==0], s=25, c='r')\n",
        "#plt.scatter(x1[y1==1], x2[y1==1], s=25, c='b')\n",
        "plot_decision_regions(A_train[total_S[best_iter],:], y_train[total_S[best_iter]], clf=model)"
      ]
    },
    {
      "cell_type": "code",
      "execution_count": null,
      "metadata": {
        "id": "eYWLfXGoT3Fm"
      },
      "outputs": [],
      "source": [
        "x3 = A_test[:, 0]\n",
        "x4 = A_test[:, 1]\n",
        "y2 = y_test.astype(int)\n",
        "plt.scatter(x3[y2==0], x4[y2==0], s=25, c='green')\n",
        "plt.scatter(x3[y2==1], x4[y2==1], s=25, c='orange')\n",
        "plot_decision_regions(A_test, y_test, clf=model)"
      ]
    },
    {
      "cell_type": "code",
      "execution_count": null,
      "metadata": {
        "id": "DibRm47cT3Fo"
      },
      "outputs": [],
      "source": [
        "from sklearn.model_selection import cross_val_score\n",
        "x=A_train[total_S[best_iter]]\n",
        "y=y_train[total_S[best_iter]]\n",
        "model = svm.SVC(C=1000.0,kernel = \"rbf\", gamma =1/(2*sig))\n",
        "cv_met=cross_val_score(model,x,y,cv=5,scoring=None)\n",
        "print(cross_val_score(model,x,y,cv=5,scoring=None))"
      ]
    },
    {
      "cell_type": "code",
      "execution_count": null,
      "metadata": {
        "id": "9NwM6JGJT3Fp"
      },
      "outputs": [],
      "source": [
        "from sklearn import metrics\n",
        "cv_met=cross_val_score(model,x,y,cv=5,scoring='f1_macro')\n"
      ]
    },
    {
      "cell_type": "code",
      "execution_count": null,
      "metadata": {
        "id": "XAJobMrJT3Fq"
      },
      "outputs": [],
      "source": [
        "print(f\"The cross-validation f1 is: {np.mean(cv_met)*100:.2f}%\")"
      ]
    },
    {
      "cell_type": "code",
      "execution_count": null,
      "metadata": {
        "id": "LmZuqSUDT3Fr"
      },
      "outputs": [],
      "source": [
        ""
      ]
    },
    {
      "cell_type": "code",
      "execution_count": null,
      "metadata": {
        "id": "RrMZ-gU-T3Fs"
      },
      "outputs": [],
      "source": [
        ""
      ]
    }
  ],
  "metadata": {
    "colab": {
      "name": "code_fvs (2).ipynb",
      "provenance": [],
      "collapsed_sections": [],
      "include_colab_link": true
    },
    "kernelspec": {
      "display_name": "Python 3",
      "language": "python",
      "name": "python3"
    },
    "language_info": {
      "codemirror_mode": {
        "name": "ipython",
        "version": 3
      },
      "file_extension": ".py",
      "mimetype": "text/x-python",
      "name": "python",
      "nbconvert_exporter": "python",
      "pygments_lexer": "ipython3",
      "version": "3.8.5"
    },
    "gpuClass": "standard",
    "accelerator": "GPU"
  },
  "nbformat": 4,
  "nbformat_minor": 0
}